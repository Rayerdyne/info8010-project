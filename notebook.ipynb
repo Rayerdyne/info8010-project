{
 "cells": [
  {
   "cell_type": "markdown",
   "metadata": {},
   "source": [
    "# INFO8010: Project\n",
    "Detailed description: see [README.md](README.md)\n",
    "\n",
    "NB: references in this notebook point towards the README's references"
   ]
  },
  {
   "cell_type": "markdown",
   "metadata": {},
   "source": [
    "## 0. Preamble\n",
    "\n",
    "Importing torch and required libraries, plus miscellaneous definitions\n",
    "\n",
    "### 0.0. Installing packages"
   ]
  },
  {
   "cell_type": "code",
   "execution_count": 2,
   "metadata": {
    "execution": {
     "iopub.execute_input": "2022-05-10T10:13:43.391955Z",
     "iopub.status.busy": "2022-05-10T10:13:43.391691Z",
     "iopub.status.idle": "2022-05-10T10:13:46.709351Z",
     "shell.execute_reply": "2022-05-10T10:13:46.708575Z",
     "shell.execute_reply.started": "2022-05-10T10:13:43.391922Z"
    }
   },
   "outputs": [
    {
     "name": "stdout",
     "output_type": "stream",
     "text": [
      "Looking in indexes: https://pypi.org/simple, https://pypi.ngc.nvidia.com\n",
      "Requirement already satisfied: ipynb==0.5.1 in /opt/conda/lib/python3.8/site-packages (from -r requirements.txt (line 1)) (0.5.1)\n",
      "Requirement already satisfied: ipywidgets==7.7.0 in /opt/conda/lib/python3.8/site-packages (from -r requirements.txt (line 2)) (7.7.0)\n",
      "Requirement already satisfied: librosa==0.9.1 in /opt/conda/lib/python3.8/site-packages (from -r requirements.txt (line 3)) (0.9.1)\n",
      "Requirement already satisfied: matplotlib==3.5.1 in /opt/conda/lib/python3.8/site-packages (from -r requirements.txt (line 4)) (3.5.1)\n",
      "Requirement already satisfied: notebook==6.4.10 in /opt/conda/lib/python3.8/site-packages (from -r requirements.txt (line 5)) (6.4.10)\n",
      "Requirement already satisfied: numpy==1.21.0 in /opt/conda/lib/python3.8/site-packages (from -r requirements.txt (line 6)) (1.21.0)\n",
      "Requirement already satisfied: torch==1.11.0 in /opt/conda/lib/python3.8/site-packages (from -r requirements.txt (line 7)) (1.11.0)\n",
      "Requirement already satisfied: torchaudio==0.11.0 in /opt/conda/lib/python3.8/site-packages (from -r requirements.txt (line 8)) (0.11.0)\n",
      "Requirement already satisfied: torchvision==0.12.0 in /opt/conda/lib/python3.8/site-packages (from -r requirements.txt (line 9)) (0.12.0)\n",
      "Requirement already satisfied: fastprogress==1.0.2 in /opt/conda/lib/python3.8/site-packages (from -r requirements.txt (line 10)) (1.0.2)\n",
      "Requirement already satisfied: widgetsnbextension~=3.6.0 in /opt/conda/lib/python3.8/site-packages (from ipywidgets==7.7.0->-r requirements.txt (line 2)) (3.6.0)\n",
      "Requirement already satisfied: nbformat>=4.2.0 in /opt/conda/lib/python3.8/site-packages (from ipywidgets==7.7.0->-r requirements.txt (line 2)) (5.1.3)\n",
      "Requirement already satisfied: ipython>=4.0.0 in /opt/conda/lib/python3.8/site-packages (from ipywidgets==7.7.0->-r requirements.txt (line 2)) (8.0.1)\n",
      "Requirement already satisfied: jupyterlab-widgets>=1.0.0 in /opt/conda/lib/python3.8/site-packages (from ipywidgets==7.7.0->-r requirements.txt (line 2)) (1.1.0)\n",
      "Requirement already satisfied: ipykernel>=4.5.1 in /opt/conda/lib/python3.8/site-packages (from ipywidgets==7.7.0->-r requirements.txt (line 2)) (6.9.0)\n",
      "Requirement already satisfied: traitlets>=4.3.1 in /opt/conda/lib/python3.8/site-packages (from ipywidgets==7.7.0->-r requirements.txt (line 2)) (5.1.1)\n",
      "Requirement already satisfied: ipython-genutils~=0.2.0 in /opt/conda/lib/python3.8/site-packages (from ipywidgets==7.7.0->-r requirements.txt (line 2)) (0.2.0)\n",
      "Requirement already satisfied: pooch>=1.0 in /opt/conda/lib/python3.8/site-packages (from librosa==0.9.1->-r requirements.txt (line 3)) (1.6.0)\n",
      "Requirement already satisfied: audioread>=2.1.5 in /opt/conda/lib/python3.8/site-packages (from librosa==0.9.1->-r requirements.txt (line 3)) (2.1.9)\n",
      "Requirement already satisfied: resampy>=0.2.2 in /opt/conda/lib/python3.8/site-packages (from librosa==0.9.1->-r requirements.txt (line 3)) (0.2.2)\n",
      "Requirement already satisfied: numba>=0.45.1 in /opt/conda/lib/python3.8/site-packages (from librosa==0.9.1->-r requirements.txt (line 3)) (0.53.1)\n",
      "Requirement already satisfied: soundfile>=0.10.2 in /opt/conda/lib/python3.8/site-packages (from librosa==0.9.1->-r requirements.txt (line 3)) (0.10.3.post1)\n",
      "Requirement already satisfied: scikit-learn>=0.19.1 in /opt/conda/lib/python3.8/site-packages (from librosa==0.9.1->-r requirements.txt (line 3)) (0.24.0)\n",
      "Requirement already satisfied: packaging>=20.0 in /opt/conda/lib/python3.8/site-packages (from librosa==0.9.1->-r requirements.txt (line 3)) (21.3)\n",
      "Requirement already satisfied: joblib>=0.14 in /opt/conda/lib/python3.8/site-packages (from librosa==0.9.1->-r requirements.txt (line 3)) (1.1.0)\n",
      "Requirement already satisfied: scipy>=1.2.0 in /opt/conda/lib/python3.8/site-packages (from librosa==0.9.1->-r requirements.txt (line 3)) (1.6.3)\n",
      "Requirement already satisfied: decorator>=4.0.10 in /opt/conda/lib/python3.8/site-packages (from librosa==0.9.1->-r requirements.txt (line 3)) (5.1.1)\n",
      "Requirement already satisfied: pyparsing>=2.2.1 in /opt/conda/lib/python3.8/site-packages (from matplotlib==3.5.1->-r requirements.txt (line 4)) (3.0.7)\n",
      "Requirement already satisfied: pillow>=6.2.0 in /opt/conda/lib/python3.8/site-packages (from matplotlib==3.5.1->-r requirements.txt (line 4)) (9.0.0)\n",
      "Requirement already satisfied: python-dateutil>=2.7 in /opt/conda/lib/python3.8/site-packages (from matplotlib==3.5.1->-r requirements.txt (line 4)) (2.8.2)\n",
      "Requirement already satisfied: kiwisolver>=1.0.1 in /opt/conda/lib/python3.8/site-packages (from matplotlib==3.5.1->-r requirements.txt (line 4)) (1.3.2)\n",
      "Requirement already satisfied: cycler>=0.10 in /opt/conda/lib/python3.8/site-packages (from matplotlib==3.5.1->-r requirements.txt (line 4)) (0.11.0)\n",
      "Requirement already satisfied: fonttools>=4.22.0 in /opt/conda/lib/python3.8/site-packages (from matplotlib==3.5.1->-r requirements.txt (line 4)) (4.29.1)\n",
      "Requirement already satisfied: jupyter-core>=4.6.1 in /opt/conda/lib/python3.8/site-packages (from notebook==6.4.10->-r requirements.txt (line 5)) (4.9.1)\n",
      "Requirement already satisfied: prometheus-client in /opt/conda/lib/python3.8/site-packages (from notebook==6.4.10->-r requirements.txt (line 5)) (0.9.0)\n",
      "Requirement already satisfied: nbconvert>=5 in /opt/conda/lib/python3.8/site-packages (from notebook==6.4.10->-r requirements.txt (line 5)) (6.4.2)\n",
      "Requirement already satisfied: nest-asyncio>=1.5 in /opt/conda/lib/python3.8/site-packages (from notebook==6.4.10->-r requirements.txt (line 5)) (1.5.4)\n",
      "Requirement already satisfied: jupyter-client>=5.3.4 in /opt/conda/lib/python3.8/site-packages (from notebook==6.4.10->-r requirements.txt (line 5)) (7.1.2)\n",
      "Requirement already satisfied: tornado>=6.1 in /opt/conda/lib/python3.8/site-packages (from notebook==6.4.10->-r requirements.txt (line 5)) (6.1)\n",
      "Requirement already satisfied: jinja2 in /opt/conda/lib/python3.8/site-packages (from notebook==6.4.10->-r requirements.txt (line 5)) (3.0.3)\n",
      "Requirement already satisfied: pyzmq>=17 in /opt/conda/lib/python3.8/site-packages (from notebook==6.4.10->-r requirements.txt (line 5)) (22.3.0)\n",
      "Requirement already satisfied: Send2Trash>=1.8.0 in /opt/conda/lib/python3.8/site-packages (from notebook==6.4.10->-r requirements.txt (line 5)) (1.8.0)\n",
      "Requirement already satisfied: terminado>=0.8.3 in /opt/conda/lib/python3.8/site-packages (from notebook==6.4.10->-r requirements.txt (line 5)) (0.13.1)\n",
      "Requirement already satisfied: argon2-cffi in /opt/conda/lib/python3.8/site-packages (from notebook==6.4.10->-r requirements.txt (line 5)) (21.3.0)\n",
      "Requirement already satisfied: typing-extensions in /opt/conda/lib/python3.8/site-packages (from torch==1.11.0->-r requirements.txt (line 7)) (4.0.1)\n",
      "Requirement already satisfied: requests in /opt/conda/lib/python3.8/site-packages (from torchvision==0.12.0->-r requirements.txt (line 9)) (2.26.0)\n",
      "Requirement already satisfied: debugpy<2.0,>=1.0.0 in /opt/conda/lib/python3.8/site-packages (from ipykernel>=4.5.1->ipywidgets==7.7.0->-r requirements.txt (line 2)) (1.5.1)\n",
      "Requirement already satisfied: matplotlib-inline<0.2.0,>=0.1.0 in /opt/conda/lib/python3.8/site-packages (from ipykernel>=4.5.1->ipywidgets==7.7.0->-r requirements.txt (line 2)) (0.1.3)\n",
      "Requirement already satisfied: pickleshare in /opt/conda/lib/python3.8/site-packages (from ipython>=4.0.0->ipywidgets==7.7.0->-r requirements.txt (line 2)) (0.7.5)\n",
      "Requirement already satisfied: pygments in /opt/conda/lib/python3.8/site-packages (from ipython>=4.0.0->ipywidgets==7.7.0->-r requirements.txt (line 2)) (2.11.2)\n",
      "Requirement already satisfied: black in /opt/conda/lib/python3.8/site-packages (from ipython>=4.0.0->ipywidgets==7.7.0->-r requirements.txt (line 2)) (22.1.0)\n",
      "Requirement already satisfied: pexpect>4.3 in /opt/conda/lib/python3.8/site-packages (from ipython>=4.0.0->ipywidgets==7.7.0->-r requirements.txt (line 2)) (4.8.0)\n",
      "Requirement already satisfied: backcall in /opt/conda/lib/python3.8/site-packages (from ipython>=4.0.0->ipywidgets==7.7.0->-r requirements.txt (line 2)) (0.2.0)\n",
      "Requirement already satisfied: jedi>=0.16 in /opt/conda/lib/python3.8/site-packages (from ipython>=4.0.0->ipywidgets==7.7.0->-r requirements.txt (line 2)) (0.18.1)\n",
      "Requirement already satisfied: stack-data in /opt/conda/lib/python3.8/site-packages (from ipython>=4.0.0->ipywidgets==7.7.0->-r requirements.txt (line 2)) (0.1.4)\n",
      "Requirement already satisfied: prompt-toolkit!=3.0.0,!=3.0.1,<3.1.0,>=2.0.0 in /opt/conda/lib/python3.8/site-packages (from ipython>=4.0.0->ipywidgets==7.7.0->-r requirements.txt (line 2)) (3.0.26)\n",
      "Requirement already satisfied: setuptools>=18.5 in /opt/conda/lib/python3.8/site-packages (from ipython>=4.0.0->ipywidgets==7.7.0->-r requirements.txt (line 2)) (59.5.0)\n",
      "Requirement already satisfied: parso<0.9.0,>=0.8.0 in /opt/conda/lib/python3.8/site-packages (from jedi>=0.16->ipython>=4.0.0->ipywidgets==7.7.0->-r requirements.txt (line 2)) (0.8.3)\n",
      "Requirement already satisfied: entrypoints in /opt/conda/lib/python3.8/site-packages (from jupyter-client>=5.3.4->notebook==6.4.10->-r requirements.txt (line 5)) (0.3)\n",
      "Requirement already satisfied: defusedxml in /opt/conda/lib/python3.8/site-packages (from nbconvert>=5->notebook==6.4.10->-r requirements.txt (line 5)) (0.7.1)\n",
      "Requirement already satisfied: jupyterlab-pygments in /opt/conda/lib/python3.8/site-packages (from nbconvert>=5->notebook==6.4.10->-r requirements.txt (line 5)) (0.1.2)\n",
      "Requirement already satisfied: bleach in /opt/conda/lib/python3.8/site-packages (from nbconvert>=5->notebook==6.4.10->-r requirements.txt (line 5)) (4.1.0)\n",
      "Requirement already satisfied: pandocfilters>=1.4.1 in /opt/conda/lib/python3.8/site-packages (from nbconvert>=5->notebook==6.4.10->-r requirements.txt (line 5)) (1.5.0)\n",
      "Requirement already satisfied: nbclient<0.6.0,>=0.5.0 in /opt/conda/lib/python3.8/site-packages (from nbconvert>=5->notebook==6.4.10->-r requirements.txt (line 5)) (0.5.11)\n",
      "Requirement already satisfied: testpath in /opt/conda/lib/python3.8/site-packages (from nbconvert>=5->notebook==6.4.10->-r requirements.txt (line 5)) (0.5.0)\n",
      "Requirement already satisfied: mistune<2,>=0.8.1 in /opt/conda/lib/python3.8/site-packages (from nbconvert>=5->notebook==6.4.10->-r requirements.txt (line 5)) (0.8.4)\n",
      "Requirement already satisfied: MarkupSafe>=2.0 in /opt/conda/lib/python3.8/site-packages (from jinja2->notebook==6.4.10->-r requirements.txt (line 5)) (2.0.1)\n",
      "Requirement already satisfied: jsonschema!=2.5.0,>=2.4 in /opt/conda/lib/python3.8/site-packages (from nbformat>=4.2.0->ipywidgets==7.7.0->-r requirements.txt (line 2)) (4.4.0)\n",
      "Requirement already satisfied: importlib-resources>=1.4.0 in /opt/conda/lib/python3.8/site-packages (from jsonschema!=2.5.0,>=2.4->nbformat>=4.2.0->ipywidgets==7.7.0->-r requirements.txt (line 2)) (5.4.0)\n",
      "Requirement already satisfied: attrs>=17.4.0 in /opt/conda/lib/python3.8/site-packages (from jsonschema!=2.5.0,>=2.4->nbformat>=4.2.0->ipywidgets==7.7.0->-r requirements.txt (line 2)) (18.2.0)\n",
      "Requirement already satisfied: pyrsistent!=0.17.0,!=0.17.1,!=0.17.2,>=0.14.0 in /opt/conda/lib/python3.8/site-packages (from jsonschema!=2.5.0,>=2.4->nbformat>=4.2.0->ipywidgets==7.7.0->-r requirements.txt (line 2)) (0.18.1)\n",
      "Requirement already satisfied: zipp>=3.1.0 in /opt/conda/lib/python3.8/site-packages (from importlib-resources>=1.4.0->jsonschema!=2.5.0,>=2.4->nbformat>=4.2.0->ipywidgets==7.7.0->-r requirements.txt (line 2)) (3.7.0)\n",
      "Requirement already satisfied: llvmlite<0.37,>=0.36.0rc1 in /opt/conda/lib/python3.8/site-packages (from numba>=0.45.1->librosa==0.9.1->-r requirements.txt (line 3)) (0.36.0)\n",
      "Requirement already satisfied: ptyprocess>=0.5 in /opt/conda/lib/python3.8/site-packages (from pexpect>4.3->ipython>=4.0.0->ipywidgets==7.7.0->-r requirements.txt (line 2)) (0.7.0)\n",
      "Requirement already satisfied: appdirs>=1.3.0 in /opt/conda/lib/python3.8/site-packages (from pooch>=1.0->librosa==0.9.1->-r requirements.txt (line 3)) (1.4.4)\n",
      "Requirement already satisfied: wcwidth in /opt/conda/lib/python3.8/site-packages (from prompt-toolkit!=3.0.0,!=3.0.1,<3.1.0,>=2.0.0->ipython>=4.0.0->ipywidgets==7.7.0->-r requirements.txt (line 2)) (0.2.5)\n",
      "Requirement already satisfied: six>=1.5 in /opt/conda/lib/python3.8/site-packages (from python-dateutil>=2.7->matplotlib==3.5.1->-r requirements.txt (line 4)) (1.16.0)\n",
      "Requirement already satisfied: urllib3<1.27,>=1.21.1 in /opt/conda/lib/python3.8/site-packages (from requests->torchvision==0.12.0->-r requirements.txt (line 9)) (1.26.7)\n",
      "Requirement already satisfied: charset-normalizer~=2.0.0 in /opt/conda/lib/python3.8/site-packages (from requests->torchvision==0.12.0->-r requirements.txt (line 9)) (2.0.9)\n",
      "Requirement already satisfied: certifi>=2017.4.17 in /opt/conda/lib/python3.8/site-packages (from requests->torchvision==0.12.0->-r requirements.txt (line 9)) (2021.10.8)\n",
      "Requirement already satisfied: idna<4,>=2.5 in /opt/conda/lib/python3.8/site-packages (from requests->torchvision==0.12.0->-r requirements.txt (line 9)) (3.1)\n",
      "Requirement already satisfied: threadpoolctl>=2.0.0 in /opt/conda/lib/python3.8/site-packages (from scikit-learn>=0.19.1->librosa==0.9.1->-r requirements.txt (line 3)) (3.1.0)\n",
      "Requirement already satisfied: cffi>=1.0 in /opt/conda/lib/python3.8/site-packages (from soundfile>=0.10.2->librosa==0.9.1->-r requirements.txt (line 3)) (1.15.0)\n",
      "Requirement already satisfied: pycparser in /opt/conda/lib/python3.8/site-packages (from cffi>=1.0->soundfile>=0.10.2->librosa==0.9.1->-r requirements.txt (line 3)) (2.21)\n",
      "Requirement already satisfied: argon2-cffi-bindings in /opt/conda/lib/python3.8/site-packages (from argon2-cffi->notebook==6.4.10->-r requirements.txt (line 5)) (21.2.0)\n",
      "Requirement already satisfied: tomli>=1.1.0 in /opt/conda/lib/python3.8/site-packages (from black->ipython>=4.0.0->ipywidgets==7.7.0->-r requirements.txt (line 2)) (2.0.1)\n",
      "Requirement already satisfied: platformdirs>=2 in /opt/conda/lib/python3.8/site-packages (from black->ipython>=4.0.0->ipywidgets==7.7.0->-r requirements.txt (line 2)) (2.4.1)\n",
      "Requirement already satisfied: pathspec>=0.9.0 in /opt/conda/lib/python3.8/site-packages (from black->ipython>=4.0.0->ipywidgets==7.7.0->-r requirements.txt (line 2)) (0.9.0)\n",
      "Requirement already satisfied: click>=8.0.0 in /opt/conda/lib/python3.8/site-packages (from black->ipython>=4.0.0->ipywidgets==7.7.0->-r requirements.txt (line 2)) (8.0.3)\n",
      "Requirement already satisfied: mypy-extensions>=0.4.3 in /opt/conda/lib/python3.8/site-packages (from black->ipython>=4.0.0->ipywidgets==7.7.0->-r requirements.txt (line 2)) (0.4.3)\n",
      "Requirement already satisfied: webencodings in /opt/conda/lib/python3.8/site-packages (from bleach->nbconvert>=5->notebook==6.4.10->-r requirements.txt (line 5)) (0.5.1)\n",
      "Requirement already satisfied: asttokens in /opt/conda/lib/python3.8/site-packages (from stack-data->ipython>=4.0.0->ipywidgets==7.7.0->-r requirements.txt (line 2)) (2.0.5)\n",
      "Requirement already satisfied: pure-eval in /opt/conda/lib/python3.8/site-packages (from stack-data->ipython>=4.0.0->ipywidgets==7.7.0->-r requirements.txt (line 2)) (0.2.2)\n",
      "Requirement already satisfied: executing in /opt/conda/lib/python3.8/site-packages (from stack-data->ipython>=4.0.0->ipywidgets==7.7.0->-r requirements.txt (line 2)) (0.8.2)\n",
      "\u001b[33mWARNING: Running pip as the 'root' user can result in broken permissions and conflicting behaviour with the system package manager. It is recommended to use a virtual environment instead: https://pip.pypa.io/warnings/venv\u001b[0m\n"
     ]
    }
   ],
   "source": [
    "!pip install -r requirements.txt"
   ]
  },
  {
   "cell_type": "markdown",
   "metadata": {},
   "source": [
    "### 0.1. Imports"
   ]
  },
  {
   "cell_type": "code",
   "execution_count": 3,
   "metadata": {
    "execution": {
     "iopub.execute_input": "2022-05-10T10:13:46.712050Z",
     "iopub.status.busy": "2022-05-10T10:13:46.711609Z",
     "iopub.status.idle": "2022-05-10T10:13:50.347376Z",
     "shell.execute_reply": "2022-05-10T10:13:50.346452Z",
     "shell.execute_reply.started": "2022-05-10T10:13:46.711974Z"
    }
   },
   "outputs": [],
   "source": [
    "import matplotlib.pyplot as plt\n",
    "import numpy as np\n",
    "import torch\n",
    "import torch.nn as nn\n",
    "import torch.utils.data as torchdata\n",
    "import torch.optim as optim\n",
    "import torchvision.transforms as imgtransforms\n",
    "\n",
    "from typing import Tuple\n",
    "from math import ceil\n",
    "\n",
    "from torchvision import models as imgmodels\n",
    "\n",
    "from data import SpecDataset, N_MELS, HOP_LENGTHS\n",
    "from fastprogress.fastprogress import master_bar, progress_bar"
   ]
  },
  {
   "cell_type": "markdown",
   "metadata": {},
   "source": [
    "### 0.2. Audio player & device\n",
    "\n",
    "As this features does not work on VS Code, here is a work-around stolen from [here](https://github.com/microsoft/vscode-jupyter/issues/1012#issuecomment-785410064) to have a working audio player on VSC."
   ]
  },
  {
   "cell_type": "code",
   "execution_count": 4,
   "metadata": {
    "execution": {
     "iopub.execute_input": "2022-05-10T10:13:50.351204Z",
     "iopub.status.busy": "2022-05-10T10:13:50.350915Z",
     "iopub.status.idle": "2022-05-10T10:13:50.386977Z",
     "shell.execute_reply": "2022-05-10T10:13:50.386264Z",
     "shell.execute_reply.started": "2022-05-10T10:13:50.351176Z"
    }
   },
   "outputs": [
    {
     "data": {
      "application/vnd.jupyter.widget-view+json": {
       "model_id": "8c6d70320bfb42b9974328af50a89ae4",
       "version_major": 2,
       "version_minor": 0
      },
      "text/plain": [
       "Checkbox(value=False, description='VS Code user ?', indent=False)"
      ]
     },
     "metadata": {},
     "output_type": "display_data"
    }
   ],
   "source": [
    "import ipywidgets as widgets\n",
    "\n",
    "device = torch.device(\"cuda\" if torch.cuda.is_available() else \"cpu\")\n",
    "\n",
    "vsc_check = widgets.Checkbox(\n",
    "    value=False,\n",
    "    description=\"VS Code user ?\",\n",
    "    disabled=False,\n",
    "    tooltip=\"Do you use VS Code to see this notebook ?\",\n",
    "    indent=False,\n",
    ")\n",
    "\n",
    "display(vsc_check)"
   ]
  },
  {
   "cell_type": "code",
   "execution_count": 5,
   "metadata": {
    "execution": {
     "iopub.execute_input": "2022-05-10T10:13:50.388350Z",
     "iopub.status.busy": "2022-05-10T10:13:50.388149Z",
     "iopub.status.idle": "2022-05-10T10:13:50.395311Z",
     "shell.execute_reply": "2022-05-10T10:13:50.394609Z",
     "shell.execute_reply.started": "2022-05-10T10:13:50.388326Z"
    }
   },
   "outputs": [],
   "source": [
    "import IPython.display as ipd\n",
    "import json\n",
    "\n",
    "def VSC_Audio(audio: np.ndarray, sr: int):\n",
    "    \"\"\"\n",
    "    Use instead of IPython.display.Audio as a workaround for VS Code.\n",
    "    `audio` is an array with shape (channels, samples) or just (samples,) for mono.\n",
    "    \"\"\"\n",
    "\n",
    "    if np.ndim(audio) == 1:\n",
    "        channels = [audio.tolist()]\n",
    "    else:\n",
    "        channels = audio.tolist()\n",
    "\n",
    "    return ipd.HTML(\"\"\"\n",
    "        <script>\n",
    "            if (!window.audioContext) {\n",
    "                window.audioContext = new AudioContext();\n",
    "                window.playAudio = function(audioChannels, sr) {\n",
    "                    const buffer = audioContext.createBuffer(audioChannels.length, audioChannels[0].length, sr);\n",
    "                    for (let [channel, data] of audioChannels.entries()) {\n",
    "                        buffer.copyToChannel(Float32Array.from(data), channel);\n",
    "                    }\n",
    "            \n",
    "                    const source = audioContext.createBufferSource();\n",
    "                    source.buffer = buffer;\n",
    "                    source.connect(audioContext.destination);\n",
    "                    source.start();\n",
    "                }\n",
    "            }\n",
    "        </script>\n",
    "        <button onclick=\"playAudio(%s, %s)\">Play</button>\n",
    "    \"\"\" % (json.dumps(channels), sr))\n",
    "\n",
    "def NonVSC_Audio(audio, sr):\n",
    "    return ipd.Audio(audio, rate=sr)\n",
    "\n",
    "audio_player = VSC_Audio if vsc_check.value else NonVSC_Audio"
   ]
  },
  {
   "cell_type": "markdown",
   "metadata": {},
   "source": [
    "## 1. Data loading\n",
    "\n",
    "First, define:\n",
    "1. the transformer used to pre-process the data\n",
    "1. the loader to be used to load the data for the GTZAN dataset (to start with, to be patched if not sufficient)\n",
    "\n",
    "### 1.1. Transformer\n",
    "\n",
    "**Reminder**: Mel spectrogram \"algo\"\n",
    "1. Take a window of `win_length` samples of the input at current position\n",
    "2. Compute fft with frequency spectrum is sepatated in `n_mels` evenly spaced frequencies, then apply mel scale on it (log-like), use `n_fft` samples for that computation\n",
    "3. Append the computed column to the result\n",
    "4. Move the window of `hop_length`\n",
    "5. Restart in 1.\n",
    "\n",
    "For an input of length `N`, this results in a matrix that has:\n",
    "- `N // hop_length + 1` columns\n",
    "- `n_mels` rows\n",
    "\n",
    "In our case, as input sequence are cropped at `sequence_duration` seconds, aim at:\n",
    "- Width: `ceil(sequence_duration × sampling_rate / hop_length)` columns\n",
    "- Height: `n_mels`\n",
    "\n",
    "#### Variable input length support\n",
    "\n",
    "Later on, we will require the spectrogram length (number of columns) to express like `L = 16×n + 1` so that resnet behaves well. We will directly crop the input waveform at the right length, so that we avoid to zero-pad the spectrograms what would mean an abrupt, unwanted end of the music.\n",
    "\n",
    "We get: `L = N // hop_length + 1 = 16×n+1`\n",
    "\n",
    "Hence:  `N // hop_length = 16×n`\n",
    "\n",
    "Thus:   `N = (16×hop_length)×n+r`, where `r` is an integer in the interval `[0, hop_length[`"
   ]
  },
  {
   "cell_type": "code",
   "execution_count": 6,
   "metadata": {
    "execution": {
     "iopub.execute_input": "2022-05-10T10:13:50.397972Z",
     "iopub.status.busy": "2022-05-10T10:13:50.397351Z",
     "iopub.status.idle": "2022-05-10T10:13:50.409673Z",
     "shell.execute_reply": "2022-05-10T10:13:50.408635Z",
     "shell.execute_reply.started": "2022-05-10T10:13:50.397944Z"
    }
   },
   "outputs": [],
   "source": [
    "# Duration of the sequence to randomly crop out of the original sequence\n",
    "sequence_durations = (20, 27)    # s\n",
    "\n",
    "# parameters value taken from reference [1]\n",
    "gtzan_sampling_rate = 22050 # Hz\n",
    "sampling_rate = 12000      # 12 kHz\n",
    "\n",
    "# sampling_rate is a multiple of 16 so it's fine if seconds are even for \n",
    "# the spectrograms to shape like 16×n+1 for the resnet nice behaviour\n",
    "min_spec_length_seconds = 20\n",
    "max_spec_length_seconds = 28\n",
    "min_spec_length, max_spec_length = [int((x * sampling_rate) / HOP_LENGTHS[1] + 1) for x in [\n",
    "    min_spec_length_seconds, max_spec_length_seconds\n",
    "]]\n",
    "\n",
    "class OurRandomCrop(object):\n",
    "    \"\"\"\n",
    "    Cannot work because of concurrency, and have to stack tensors of same dimensions\n",
    "    in a same minibatch...\n",
    "    \"\"\"\n",
    "    def __init__(self, height: int, bounds: Tuple[int, int], step: int = 1):\n",
    "        self.height = height\n",
    "        self.base = bounds[0]\n",
    "        self.num = int(ceil((bounds[1] - bounds[0]) / step))\n",
    "        self.step = step\n",
    "        self.batch_size = 5\n",
    "        self.counter = 0\n",
    "    \n",
    "    def __call__(self, x: torch.Tensor) -> torch.Tensor:\n",
    "        if self.counter == 0:\n",
    "            self.counter = self.batch_size - 1\n",
    "            self.r = int(torch.randint(self.num, (1, 1)))\n",
    "        self.counter = (self.counter + 1) % 5\n",
    "        l = self.base + self.r * self.step\n",
    "        return imgtransforms.RandomCrop((self.height, l))(x)\n",
    "    \n",
    "\n",
    "def make_spec_transform(spec_length: int):\n",
    "    return imgtransforms.Compose([\n",
    "        imgtransforms.RandomCrop((N_MELS, spec_length)),\n",
    "        imgtransforms.RandomApply([\n",
    "            imgtransforms.ColorJitter(brightness=0.3, contrast=0.3, saturation=0.4, hue=0.1),\n",
    "            imgtransforms.GaussianBlur(3, sigma=(0.1, 1)),\n",
    "            imgtransforms.RandomErasing(p=0.4)\n",
    "        ], p=0.7)\n",
    "    ])\n",
    "\n",
    "transform = make_spec_transform(min_spec_length)"
   ]
  },
  {
   "cell_type": "markdown",
   "metadata": {},
   "source": [
    "### 1.2. Dataset and data loader\n",
    "\n",
    "We split the original dataset (1000 sequences long) into test and train set:\n",
    "- Training set will be 70% of the dataset\n",
    "- Test set will contain the remaining sequences"
   ]
  },
  {
   "cell_type": "code",
   "execution_count": 7,
   "metadata": {
    "execution": {
     "iopub.execute_input": "2022-05-10T10:13:50.411656Z",
     "iopub.status.busy": "2022-05-10T10:13:50.411385Z",
     "iopub.status.idle": "2022-05-10T10:13:50.506232Z",
     "shell.execute_reply": "2022-05-10T10:13:50.505422Z",
     "shell.execute_reply.started": "2022-05-10T10:13:50.411628Z"
    }
   },
   "outputs": [],
   "source": [
    "batch_size = 5\n",
    "num_workers = 1\n",
    "\n",
    "dataset = SpecDataset(\n",
    "    \"data/gtzan\",\n",
    "    sampling_rate=sampling_rate,\n",
    "    transform=transform,\n",
    "    download=True,\n",
    ")\n",
    "\n",
    "dataset_length = len(dataset)\n",
    "trainset_length = int(0.7 * dataset_length)\n",
    "testset_length = dataset_length - trainset_length\n",
    "trainset, testset = torchdata.random_split(dataset, [trainset_length, testset_length])\n",
    "\n",
    "data_loader = torchdata.DataLoader(\n",
    "    dataset,\n",
    "    batch_size=batch_size,\n",
    "    shuffle=True,\n",
    "    num_workers=num_workers,\n",
    ")\n",
    "\n",
    "train_loader = torchdata.DataLoader(\n",
    "    trainset,\n",
    "    batch_size=batch_size,\n",
    "    shuffle=True,\n",
    "    num_workers=num_workers\n",
    ")\n",
    "\n",
    "test_loader = torchdata.DataLoader(\n",
    "    testset,\n",
    "    batch_size=batch_size,\n",
    "    shuffle=True,\n",
    "    num_workers=num_workers\n",
    ")"
   ]
  },
  {
   "cell_type": "markdown",
   "metadata": {},
   "source": [
    "NB: an element `spec` of the dataset has the dimensions: (batch, channel, frequency, time), where\n",
    "- batch correspond to the id of the sample in the batch\n",
    "- channel is artificial construction to use resnet models, spans across the different spectrograms\n",
    "- frequency spans across the frequency range of the window\n",
    "- time indicate the time of the window\n",
    "\n",
    "### 1.3. Test loading"
   ]
  },
  {
   "cell_type": "code",
   "execution_count": 8,
   "metadata": {
    "execution": {
     "iopub.execute_input": "2022-05-10T10:13:50.507623Z",
     "iopub.status.busy": "2022-05-10T10:13:50.507418Z",
     "iopub.status.idle": "2022-05-10T10:13:52.190554Z",
     "shell.execute_reply": "2022-05-10T10:13:52.189504Z",
     "shell.execute_reply.started": "2022-05-10T10:13:50.507598Z"
    }
   },
   "outputs": [
    {
     "name": "stdout",
     "output_type": "stream",
     "text": [
      "spec shape: torch.Size([5, 3, 128, 801])\n"
     ]
    },
    {
     "data": {
      "text/plain": [
       "<matplotlib.image.AxesImage at 0x7f190f9b9130>"
      ]
     },
     "execution_count": 8,
     "metadata": {},
     "output_type": "execute_result"
    },
    {
     "data": {
      "image/png": "[encoded data removed]",
      "text/plain": [
       "<Figure size 432x288 with 1 Axes>"
      ]
     },
     "metadata": {
      "needs_background": "light"
     },
     "output_type": "display_data"
    }
   ],
   "source": [
    "spec, genre = next(iter(data_loader))\n",
    "print(f\"spec shape: {spec.shape}\")\n",
    "plt.imshow(spec[0][0], vmin=0, vmax=0.5)\n"
   ]
  },
  {
   "cell_type": "markdown",
   "metadata": {},
   "source": [
    "## 2. Defining the encoder and the decoder\n",
    "\n",
    "Define as `nn.Module`s:\n",
    "- the encoder\n",
    "   - Input: waveform\n",
    "   - Output: latent representation\n",
    "- the decoder\n",
    "   - Input: latent representation\n",
    "   - Ouptput: waveform\n",
    "- an encoder-decoder that chains them both for convenience\n",
    "\n",
    "### Shapes\n",
    "| Stage                  | Shape            | Meaning                      |\n",
    "| ---------------------- | ---------------- | ---------------------------- |\n",
    "| Input `spec`           | [5, 3, 128, 801] | (batch, channel, freq, time) |\n",
    "| Output of `ResNet34Cut`| [5, 256, 8, 51]  | (batch, stack, freq2, time2) |\n",
    "| Intput of LSTM         | [5, 2048, 51]    | (batch, freq3, time3)        |\n",
    "| Output of LSTM         | [5, 2048]        | (batch, component)           |"
   ]
  },
  {
   "cell_type": "markdown",
   "metadata": {},
   "source": [
    "### 2.1 Resnet utilities\n",
    "\n",
    "Cut the resnet34 architecture to keep more detailed information (and not loose temporal dimension):\n",
    "\n",
    "NB: the `forward` implementation is almost copy-pasted from the torchvision sources, from [here](https://pytorch.org/vision/main/_modules/torchvision/models/resnet.html#resnet34).\n",
    "\n",
    "Also, define an inverse module for that architecture to be used in the decoder."
   ]
  },
  {
   "cell_type": "code",
   "execution_count": 9,
   "metadata": {
    "execution": {
     "iopub.execute_input": "2022-05-10T10:13:52.192918Z",
     "iopub.status.busy": "2022-05-10T10:13:52.192613Z",
     "iopub.status.idle": "2022-05-10T10:13:52.212666Z",
     "shell.execute_reply": "2022-05-10T10:13:52.211819Z",
     "shell.execute_reply.started": "2022-05-10T10:13:52.192872Z"
    }
   },
   "outputs": [],
   "source": [
    "class ResNet34Cut(imgmodels.ResNet):\n",
    "    def __init__(self, pretrained=True):\n",
    "        resnet = imgmodels.resnet34(pretrained=pretrained)\n",
    "        for k, v in resnet.__dict__.items():\n",
    "            setattr(self, k, v)\n",
    "        \n",
    "    \n",
    "    def forward(self, x: torch.Tensor) -> torch.Tensor:\n",
    "        # x.size = [batch(B), channels(3), n_mels(128), spec_length(L=16×N+1)]\n",
    "        x = self.conv1(x)\n",
    "        x = self.bn1(x)\n",
    "        x = self.relu(x)\n",
    "        x = self.maxpool(x)\n",
    "\n",
    "        x = self.layer1(x)\n",
    "        x = self.layer2(x)\n",
    "        x = self.layer3(x)\n",
    "        # x.size = [batch(B), channels(256), height(8), length(f(L)=N+1)]\n",
    "        # f(L) = ???, at least f(16×n+1) = n+1   for int n\n",
    "        #         ↳ Because of mess of conv & pooling layers in resnet\n",
    "\n",
    "        return x\n",
    "\n",
    "class InverseResNet34Cut(nn.Module):\n",
    "    channels = [256, 128, 64, 64, 3]\n",
    "    kernel_sizes = [(3, 3), (3, 3), (3, 3), (3, 3)]\n",
    "    mid_kernel_size = (3, 3)\n",
    "    num_mid_layers = [2, 1, 1, 0]\n",
    "\n",
    "    def __init__(self):\n",
    "        super().__init__()\n",
    "        self.layer1 = self._make_layer(\n",
    "            in_channels = self.channels[0],\n",
    "            out_channels = self.channels[1],\n",
    "            kernel_size = self.kernel_sizes[0],\n",
    "            output_padding = (1, 0),\n",
    "            num_mid_layers = self.num_mid_layers[0],\n",
    "            mid_kernel_size = self.mid_kernel_size,\n",
    "        )\n",
    "        \n",
    "        self.layer2 = self._make_layer(\n",
    "            in_channels = self.channels[1], \n",
    "            out_channels = self.channels[2],\n",
    "            kernel_size = self.kernel_sizes[1],\n",
    "            num_mid_layers = self.num_mid_layers[1],\n",
    "            mid_kernel_size = self.mid_kernel_size\n",
    "        )\n",
    "        \n",
    "        self.layer3 = self._make_layer(\n",
    "            in_channels = self.channels[2], \n",
    "            out_channels = self.channels[3],\n",
    "            kernel_size = self.kernel_sizes[2],\n",
    "            num_mid_layers =self.num_mid_layers[2],\n",
    "            mid_kernel_size = self.mid_kernel_size\n",
    "        )\n",
    "\n",
    "        self.layer4 = self._make_layer(\n",
    "            in_channels = self.channels[3],\n",
    "            out_channels = self.channels[4],\n",
    "            kernel_size = self.kernel_sizes[3],\n",
    "            num_mid_layers = self.num_mid_layers[3],\n",
    "            mid_kernel_size = self.mid_kernel_size,\n",
    "        )\n",
    "    \n",
    "    def _make_transition_layer(\n",
    "        self,\n",
    "        in_channels: int,\n",
    "        out_channels: int,\n",
    "        kernel_size: Tuple[int, int],\n",
    "        padding: Tuple[int, int] = (1, 1),\n",
    "        output_padding: Tuple[int, int] = (1, 0)\n",
    "    ) -> nn.Module:\n",
    "        return nn.Sequential(\n",
    "            nn.ConvTranspose2d(\n",
    "                in_channels=in_channels,\n",
    "                out_channels=out_channels,\n",
    "                kernel_size=kernel_size,\n",
    "                stride=(2, 2),\n",
    "                padding=padding,\n",
    "                output_padding=output_padding\n",
    "            ),\n",
    "            nn.BatchNorm2d(out_channels, momentum=0.01),\n",
    "            nn.ReLU()\n",
    "        )\n",
    "    \n",
    "    def _make_mid_layer(self, channels: int, kernel_size: int) -> nn.Module:\n",
    "        return nn.Sequential(\n",
    "            nn.ConvTranspose2d(\n",
    "                in_channels=channels,\n",
    "                out_channels=channels,\n",
    "                kernel_size=kernel_size,\n",
    "                padding=1\n",
    "            ),\n",
    "            nn.BatchNorm2d(channels, momentum=0.01),\n",
    "            nn.ReLU()\n",
    "        )\n",
    "    \n",
    "    def _make_layer(\n",
    "        self,\n",
    "        in_channels: int,\n",
    "        out_channels: int,\n",
    "        kernel_size: Tuple[int, int],\n",
    "        num_mid_layers: int,\n",
    "        mid_kernel_size: Tuple[int, int],\n",
    "        padding: Tuple[int, int] = (1, 1),\n",
    "        output_padding: Tuple[int, int] = (1, 0),\n",
    "    ) -> nn.Module:\n",
    "        l = []\n",
    "        l.append(self._make_transition_layer(\n",
    "            in_channels, out_channels, kernel_size, padding, output_padding\n",
    "        ))\n",
    "        for _ in range(num_mid_layers):\n",
    "            l.append(self._make_mid_layer(out_channels, mid_kernel_size))\n",
    "        \n",
    "        return nn.Sequential(*l)\n",
    "    \n",
    "    def forward(self, x: torch.Tensor) -> torch.Tensor:\n",
    "        # x.shape = [batch(B), channels(256), height(8), length(f(L))]\n",
    "        x = self.layer1(x)\n",
    "        x = self.layer2(x)\n",
    "        x = self.layer3(x)\n",
    "        x = self.layer4(x)\n",
    "        # x.shape = [batch(B), channels(3), n_mels(128), spec_length(L)]\n",
    "        return x"
   ]
  },
  {
   "cell_type": "code",
   "execution_count": 10,
   "metadata": {
    "execution": {
     "iopub.execute_input": "2022-05-10T10:13:52.213890Z",
     "iopub.status.busy": "2022-05-10T10:13:52.213669Z",
     "iopub.status.idle": "2022-05-10T10:13:59.685138Z",
     "shell.execute_reply": "2022-05-10T10:13:59.684489Z",
     "shell.execute_reply.started": "2022-05-10T10:13:52.213847Z"
    }
   },
   "outputs": [
    {
     "name": "stderr",
     "output_type": "stream",
     "text": [
      "Downloading: \"https://download.pytorch.org/models/resnet34-b627a593.pth\" to /root/.cache/torch/hub/checkpoints/resnet34-b627a593.pth\n"
     ]
    },
    {
     "data": {
      "application/vnd.jupyter.widget-view+json": {
       "model_id": "9d534e9fcc214d6dbc579497a14714a2",
       "version_major": 2,
       "version_minor": 0
      },
      "text/plain": [
       "  0%|          | 0.00/83.3M [00:00<?, ?B/s]"
      ]
     },
     "metadata": {},
     "output_type": "display_data"
    },
    {
     "name": "stdout",
     "output_type": "stream",
     "text": [
      "<class 'torch.Tensor'>\n",
      "x.shape = torch.Size([1, 3, 128, 17])\n",
      "y.shape = torch.Size([1, 256, 8, 2])\n",
      "z.shape = torch.Size([1, 3, 128, 17])\n"
     ]
    }
   ],
   "source": [
    "# test shapes are coherent\n",
    "resnet = ResNet34Cut()\n",
    "inverse = InverseResNet34Cut()\n",
    "\n",
    "resnet.to(device)\n",
    "inverse.to(device)\n",
    "x = torch.randn([1, 3, 128, 17]).to(device)\n",
    "print(type(x.to(device)))\n",
    "print(f\"x.shape = {x.shape}\")\n",
    "y = resnet(x)\n",
    "print(f\"y.shape = {y.shape}\")\n",
    "z = inverse(y)\n",
    "print(f\"z.shape = {z.shape}\")"
   ]
  },
  {
   "cell_type": "markdown",
   "metadata": {},
   "source": [
    "### 2.2 Encoder and decoder\n",
    "\n",
    "Remark: the LSTM input size is constant, as it is derived from the dimension of the output of the cut resnet model, that is the product between the number of channels (256, fixed by ResNet34Cut) and the height of the output, that evaluates to `post_resnet_height = n_mels / 16 = 8` as long as `n_mels` remains 128.\n",
    "\n",
    "**Recall**\n",
    "In pytorch, a mono-directional LSTM set with `batch_first=True`, having `num_lstm_layers` LSTMs stacked on each other, takes as inputs:\n",
    "- the input sequence `x`, of shape `[batch, sequence, H_out]`\n",
    "- the initial hidden state `h_0`, of shape `[num_lstm_layers, batch, H_out]`\n",
    "- the initial cell state `c_0`, of shape  `[num_lstm_layers, batch, H_out]`"
   ]
  },
  {
   "cell_type": "code",
   "execution_count": 11,
   "metadata": {
    "execution": {
     "iopub.execute_input": "2022-05-10T10:13:59.686550Z",
     "iopub.status.busy": "2022-05-10T10:13:59.686348Z",
     "iopub.status.idle": "2022-05-10T10:13:59.706854Z",
     "shell.execute_reply": "2022-05-10T10:13:59.706206Z",
     "shell.execute_reply.started": "2022-05-10T10:13:59.686527Z"
    }
   },
   "outputs": [],
   "source": [
    "post_resnet_height: int = int(N_MELS / 16)\n",
    "lstm_input_size: int = 256 * post_resnet_height\n",
    "\n",
    "class Encoder(nn.Module):\n",
    "    def __init__(\n",
    "        self,\n",
    "        hidden_size: int = 2048,\n",
    "        num_lstm_layers: int = 1,\n",
    "        output_size: int = 2048\n",
    "    ):\n",
    "        super(Encoder, self).__init__()\n",
    "\n",
    "        self.resnet = ResNet34Cut(pretrained=True)\n",
    "        self.lstm = nn.LSTM(\n",
    "            input_size=lstm_input_size,\n",
    "            hidden_size=hidden_size,\n",
    "            num_layers=num_lstm_layers,\n",
    "            batch_first=True,\n",
    "            # no need to specify sequence length\n",
    "        )\n",
    "        self.h0 = nn.parameter.Parameter(torch.randn(hidden_size))\n",
    "        self.c0 = nn.parameter.Parameter(torch.randn(hidden_size))\n",
    "\n",
    "        self.fc = nn.Linear(hidden_size, output_size)\n",
    "        self.init_state = None\n",
    "    \n",
    "    def set_init_state(self, s: Tuple[torch.Tensor, torch.Tensor]):\n",
    "        self.init_state = s\n",
    "    \n",
    "    def forward(self, x: torch.Tensor) -> torch.Tensor:\n",
    "        # x.shape = [batch(B), channels(3), n_mels(128), spec_length(L=16×N+1)]\n",
    "        batch_size = x.shape[0]\n",
    "        x = self.resnet(x)\n",
    "\n",
    "        # x.shape = [batch(B), channels(256), height(8), length(N+1)]\n",
    "        length = x.shape[-1]\n",
    "        x = x.view(batch_size, -1, length).swapaxes(1, 2)\n",
    "\n",
    "        # x.shape = [batch(B), length(N+1), height(lstm_input_size=2048)]\n",
    "        if self.init_state is not None:\n",
    "            output, (hn, cn) = self.lstm(x, self.init_state)\n",
    "            self.init_state = None\n",
    "        else:\n",
    "            h0 = self.h0.repeat(batch_size, 1).unsqueeze(0)\n",
    "            c0 = self.c0.repeat(batch_size, 1).unsqueeze(0)\n",
    "            output, (hn, cn) = self.lstm(x, (h0, c0))\n",
    "        \n",
    "        # hn.shape = [num_lstm_layers, batch(B), hidden]\n",
    "        x = self.fc(hn.squeeze(0))\n",
    "        \n",
    "        # x.shape = [batch(B), output_size]\n",
    "        return x\n",
    "\n",
    "class Decoder(nn.Module):\n",
    "    def __init__(\n",
    "        self,\n",
    "        output_size=2048,\n",
    "        hidden_size=2048,\n",
    "        sequence_length=51,\n",
    "        num_lstm_layers=1\n",
    "    ):\n",
    "        super(Decoder, self).__init__()\n",
    "\n",
    "        self.fc = nn.Linear(output_size, hidden_size)\n",
    "\n",
    "        self.const_x = nn.parameter.Parameter(torch.randn(lstm_input_size))\n",
    "        self.const_xr = self.const_x.repeat(1, sequence_length, 1).to(device)\n",
    "        self.c0 = nn.parameter.Parameter(torch.randn(hidden_size))\n",
    "\n",
    "        self.lstm = nn.LSTM(\n",
    "            input_size=lstm_input_size,\n",
    "            hidden_size=hidden_size,\n",
    "            num_layers=num_lstm_layers,\n",
    "            batch_first=True,\n",
    "            # no need to specify sequence length\n",
    "        )\n",
    "        self.reverse_resnet = InverseResNet34Cut()\n",
    "        self.hidden_size = hidden_size\n",
    "        self.sequence_length = sequence_length\n",
    "    \n",
    "    def set_output_sequence_length(self, spec_length: int):\n",
    "        \"\"\"\n",
    "        Sets the decoder to output spectrograms of length `length`, \n",
    "        parameterizing the LSTM input.\n",
    "        \"\"\"\n",
    "        length = int((spec_length-1) // 16 + 1)\n",
    "        self.sequence_length = length\n",
    "        self.const_xr = self.const_x.repeat(1, self.sequence_length, 1).to(device)\n",
    "    \n",
    "    def set_output_sequence_length_seconds(self, seconds: float):\n",
    "        \"\"\"\n",
    "        Sets the decoder to output approximately `seconds` seconds spectrograms.\n",
    "        Relies on the MelSpectrogram class used, obviously.\n",
    "\n",
    "        Dumby interpolation from 801 spectrogram length corresponding to ±20s,\n",
    "        hence 40 length is 1s.\n",
    "        \"\"\"\n",
    "        self.set_output_sequence_length(int(40 * seconds))\n",
    "    \n",
    "    def forward(self, x: torch.Tensor) -> torch.Tensor:\n",
    "        # x.shape = [batch(B), output_size]\n",
    "        batch_size = x.shape[0]\n",
    "        x = self.fc(x)\n",
    "\n",
    "        # x.shape = [batch(B), hidden_size]\n",
    "        lstm_input = self.const_xr.repeat(batch_size, 1, 1)\n",
    "        c0 = self.c0.repeat(batch_size, 1).unsqueeze(0)\n",
    "        x, (hn, cn) = self.lstm(lstm_input, (x.unsqueeze(0), c0))\n",
    "        \n",
    "        # x.shape = [batch(B), length(N+1), hidden_size]\n",
    "        x = x.swapaxes(1, 2).view(batch_size, 256, post_resnet_height, self.sequence_length)\n",
    "\n",
    "        # x.shape = [batch(B), channels(256), height(8), length(N+1)]\n",
    "        x = self.reverse_resnet(x)\n",
    "\n",
    "        # x.shape = [batch(B), channels(3), n_mels(128), spec_length(16×N+1)]\n",
    "        return x\n",
    "\n",
    "\n",
    "class EncoderDecoder(nn.Module):\n",
    "    def __init__(\n",
    "        self,\n",
    "        lstm_input_size=2048,\n",
    "        hidden_size=2048,\n",
    "        sequence_length=51,\n",
    "        num_lstm_layers=1\n",
    "    ):\n",
    "        super(EncoderDecoder, self).__init__()\n",
    "\n",
    "        self.encoder = Encoder(\n",
    "            lstm_input_size=lstm_input_size,\n",
    "            hidden_size=hidden_size,\n",
    "            sequence_length=sequence_length,\n",
    "            num_lstm_layers=num_lstm_layers\n",
    "        )\n",
    "        self.decoder = Decoder(\n",
    "            lstm_input_size=lstm_input_size,\n",
    "            hidden_size=hidden_size,\n",
    "            sequence_length=sequence_length,\n",
    "            num_lstm_layers=num_lstm_layers\n",
    "        )\n",
    "    \n",
    "    def forward(self, x: torch.Tensor) -> torch.Tensor:\n",
    "        x = self.encoder(x)\n",
    "        x = self.decoder(x)\n",
    "        return x"
   ]
  },
  {
   "cell_type": "code",
   "execution_count": 12,
   "metadata": {
    "execution": {
     "iopub.execute_input": "2022-05-10T10:13:59.708074Z",
     "iopub.status.busy": "2022-05-10T10:13:59.707886Z",
     "iopub.status.idle": "2022-05-10T10:14:01.066733Z",
     "shell.execute_reply": "2022-05-10T10:14:01.066151Z",
     "shell.execute_reply.started": "2022-05-10T10:13:59.708051Z"
    }
   },
   "outputs": [
    {
     "name": "stdout",
     "output_type": "stream",
     "text": [
      "v.shape = torch.Size([5, 2048])\n",
      "y.shape = torch.Size([5, 3, 128, 817])\n"
     ]
    }
   ],
   "source": [
    "# testing...\n",
    "\n",
    "encoder = Encoder()\n",
    "decoder = Decoder()\n",
    "encoder.to(device)\n",
    "decoder.to(device)\n",
    "\n",
    "x = torch.randn([5, 3, 128, 817])\n",
    "decoder.set_output_sequence_length(817)\n",
    "v = encoder(x.to(device))\n",
    "print(f\"v.shape = {v.shape}\")\n",
    "y = decoder(v)\n",
    "print(f\"y.shape = {y.shape}\")"
   ]
  },
  {
   "cell_type": "markdown",
   "metadata": {},
   "source": [
    "## 3 Training the model\n",
    "\n",
    "### 3.0 Utility for storing losses"
   ]
  },
  {
   "cell_type": "code",
   "execution_count": 17,
   "metadata": {
    "execution": {
     "iopub.execute_input": "2022-05-10T10:27:25.020624Z",
     "iopub.status.busy": "2022-05-10T10:27:25.020330Z",
     "iopub.status.idle": "2022-05-10T10:27:25.031235Z",
     "shell.execute_reply": "2022-05-10T10:27:25.030076Z",
     "shell.execute_reply.started": "2022-05-10T10:27:25.020598Z"
    }
   },
   "outputs": [],
   "source": [
    "class LossesHandler(object):\n",
    "    def __init__(self, test_name: str, train_name: str):\n",
    "        self.ftest = open(test_name, \"w\")\n",
    "        self.ftrain = open(train_name, \"w\")\n",
    "        # self.losses[e][i] contains the loss at epoch e for elm i\n",
    "        self.train_losses = [[]]\n",
    "        self.test_losses = [[]]\n",
    "        self.spec_lengths = []\n",
    "        self.cur_epoch = 0\n",
    "    \n",
    "    def add_test_loss(self, test_loss: float):\n",
    "        self.test_losses[self.cur_epoch].append(test_loss)\n",
    "    \n",
    "    def add_train_loss(self, train_loss: float):\n",
    "        self.train_losses[self.cur_epoch].append(train_loss)\n",
    "    \n",
    "    def next_epoch(self, past_spec_length):\n",
    "        self.train_losses.append([])\n",
    "        self.test_losses.append([])\n",
    "        self.spec_lengths.append(past_spec_length)\n",
    "        self.cur_epoch += 1\n",
    "    \n",
    "    def write_epoch_losses(self):\n",
    "        self.ftrain.write(\", \".join([str(l) for l in self.train_losses[self.cur_epoch]]) + \"\\n\")\n",
    "        self.ftest.write(\", \".join([str(l) for l in self.test_losses[self.cur_epoch]]) + \"\\n\")\n",
    "    \n",
    "    def write_averages(self, filename: str):\n",
    "        f = open(filename, \"w\")\n",
    "        f.write(\"Epoch number,Epoch spec length,Average test loss,Average train loss\\n\")\n",
    "        for i, (test, train, spec_length) in enumerate(zip(self.test_losses, self.train_losses, self.spec_lengths)):\n",
    "            avg_test, avg_train = [sum(x) / len(x) for x in [test, train]]\n",
    "            f.write(f\"{i},{spec_length},{avg_test},{avg_train}\\n\")\n",
    "        \n",
    "        f.close()\n",
    "\n",
    "    \n",
    "    def close(self):\n",
    "        self.ftrain.close()\n",
    "        self.ftest.close()"
   ]
  },
  {
   "cell_type": "markdown",
   "metadata": {},
   "source": [
    "### 3.1 Training"
   ]
  },
  {
   "cell_type": "code",
   "execution_count": 18,
   "metadata": {
    "execution": {
     "iopub.execute_input": "2022-05-10T10:27:29.073795Z",
     "iopub.status.busy": "2022-05-10T10:27:29.073381Z",
     "iopub.status.idle": "2022-05-10T10:34:34.288748Z",
     "shell.execute_reply": "2022-05-10T10:34:34.287855Z",
     "shell.execute_reply.started": "2022-05-10T10:27:29.073766Z"
    }
   },
   "outputs": [
    {
     "data": {
      "text/html": [
       "\n",
       "<style>\n",
       "    /* Turns off some styling */\n",
       "    progress {\n",
       "        /* gets rid of default border in Firefox and Opera. */\n",
       "        border: none;\n",
       "        /* Needs to be in here for Safari polyfill so background images work as expected. */\n",
       "        background-size: auto;\n",
       "    }\n",
       "    .progress-bar-interrupted, .progress-bar-interrupted::-webkit-progress-bar {\n",
       "        background: #F44336;\n",
       "    }\n",
       "</style>\n"
      ],
      "text/plain": [
       "<IPython.core.display.HTML object>"
      ]
     },
     "metadata": {},
     "output_type": "display_data"
    },
    {
     "data": {
      "text/html": [
       "\n",
       "    <div>\n",
       "      <progress value='9' class='' max='300' style='width:300px; height:20px; vertical-align: middle;'></progress>\n",
       "      3.00% [9/300 06:21<3:25:26]\n",
       "    </div>\n",
       "    \n",
       "\n",
       "\n",
       "    <div>\n",
       "      <progress value='60' class='' max='60' style='width:300px; height:20px; vertical-align: middle;'></progress>\n",
       "      100.00% [60/60 00:07<00:00]\n",
       "    </div>\n",
       "    "
      ],
      "text/plain": [
       "<IPython.core.display.HTML object>"
      ]
     },
     "metadata": {},
     "output_type": "display_data"
    },
    {
     "name": "stdout",
     "output_type": "stream",
     "text": [
      "epoch with spec length: 849\n",
      "epoch with spec length: 993\n",
      "epoch with spec length: 977\n",
      "epoch with spec length: 1057\n",
      "epoch with spec length: 801\n",
      "epoch with spec length: 913\n",
      "epoch with spec length: 833\n",
      "epoch with spec length: 849\n",
      "epoch with spec length: 993\n",
      "epoch with spec length: 929\n"
     ]
    },
    {
     "ename": "ZeroDivisionError",
     "evalue": "division by zero",
     "output_type": "error",
     "traceback": [
      "\u001b[0;31m---------------------------------------------------------------------------\u001b[0m",
      "\u001b[0;31mZeroDivisionError\u001b[0m                         Traceback (most recent call last)",
      "Input \u001b[0;32mIn [18]\u001b[0m, in \u001b[0;36m<module>\u001b[0;34m\u001b[0m\n\u001b[1;32m     54\u001b[0m h\u001b[38;5;241m.\u001b[39mwrite_epoch_losses()\n\u001b[1;32m     56\u001b[0m \u001b[38;5;28;01mif\u001b[39;00m epoch \u001b[38;5;241m%\u001b[39m epoch_backup_spacing \u001b[38;5;241m==\u001b[39m \u001b[38;5;241m0\u001b[39m:\n\u001b[0;32m---> 57\u001b[0m     test_avg, train_avg \u001b[38;5;241m=\u001b[39m [\u001b[38;5;28msum\u001b[39m(x) \u001b[38;5;241m/\u001b[39m \u001b[38;5;28mlen\u001b[39m(x) \u001b[38;5;28;01mfor\u001b[39;00m x \u001b[38;5;129;01min\u001b[39;00m [\n\u001b[1;32m     58\u001b[0m         h\u001b[38;5;241m.\u001b[39mtest_losses[h\u001b[38;5;241m.\u001b[39mcur_epoch], h\u001b[38;5;241m.\u001b[39mtrain_losses[h\u001b[38;5;241m.\u001b[39mcur_epoch]\n\u001b[1;32m     59\u001b[0m     ]]\n\u001b[1;32m     60\u001b[0m     master\u001b[38;5;241m.\u001b[39mwrite(\u001b[38;5;124mf\u001b[39m\u001b[38;5;124m\"\u001b[39m\u001b[38;5;124mEpoch \u001b[39m\u001b[38;5;132;01m{\u001b[39;00mepoch\u001b[38;5;132;01m}\u001b[39;00m\u001b[38;5;124m: avg test loss: \u001b[39m\u001b[38;5;132;01m{\u001b[39;00mtest_avg\u001b[38;5;132;01m}\u001b[39;00m\u001b[38;5;124m, avg train loss: \u001b[39m\u001b[38;5;132;01m{\u001b[39;00mtrain_avg\u001b[38;5;132;01m}\u001b[39;00m\u001b[38;5;124m\"\u001b[39m)\n\u001b[1;32m     61\u001b[0m     torch\u001b[38;5;241m.\u001b[39msave(encoder\u001b[38;5;241m.\u001b[39mstate_dict(), \u001b[38;5;124m\"\u001b[39m\u001b[38;5;124mencoder_backup.pt\u001b[39m\u001b[38;5;124m\"\u001b[39m)\n",
      "Input \u001b[0;32mIn [18]\u001b[0m, in \u001b[0;36m<listcomp>\u001b[0;34m(.0)\u001b[0m\n\u001b[1;32m     54\u001b[0m h\u001b[38;5;241m.\u001b[39mwrite_epoch_losses()\n\u001b[1;32m     56\u001b[0m \u001b[38;5;28;01mif\u001b[39;00m epoch \u001b[38;5;241m%\u001b[39m epoch_backup_spacing \u001b[38;5;241m==\u001b[39m \u001b[38;5;241m0\u001b[39m:\n\u001b[0;32m---> 57\u001b[0m     test_avg, train_avg \u001b[38;5;241m=\u001b[39m [\u001b[38;5;28;43msum\u001b[39;49m\u001b[43m(\u001b[49m\u001b[43mx\u001b[49m\u001b[43m)\u001b[49m\u001b[43m \u001b[49m\u001b[38;5;241;43m/\u001b[39;49m\u001b[43m \u001b[49m\u001b[38;5;28;43mlen\u001b[39;49m\u001b[43m(\u001b[49m\u001b[43mx\u001b[49m\u001b[43m)\u001b[49m \u001b[38;5;28;01mfor\u001b[39;00m x \u001b[38;5;129;01min\u001b[39;00m [\n\u001b[1;32m     58\u001b[0m         h\u001b[38;5;241m.\u001b[39mtest_losses[h\u001b[38;5;241m.\u001b[39mcur_epoch], h\u001b[38;5;241m.\u001b[39mtrain_losses[h\u001b[38;5;241m.\u001b[39mcur_epoch]\n\u001b[1;32m     59\u001b[0m     ]]\n\u001b[1;32m     60\u001b[0m     master\u001b[38;5;241m.\u001b[39mwrite(\u001b[38;5;124mf\u001b[39m\u001b[38;5;124m\"\u001b[39m\u001b[38;5;124mEpoch \u001b[39m\u001b[38;5;132;01m{\u001b[39;00mepoch\u001b[38;5;132;01m}\u001b[39;00m\u001b[38;5;124m: avg test loss: \u001b[39m\u001b[38;5;132;01m{\u001b[39;00mtest_avg\u001b[38;5;132;01m}\u001b[39;00m\u001b[38;5;124m, avg train loss: \u001b[39m\u001b[38;5;132;01m{\u001b[39;00mtrain_avg\u001b[38;5;132;01m}\u001b[39;00m\u001b[38;5;124m\"\u001b[39m)\n\u001b[1;32m     61\u001b[0m     torch\u001b[38;5;241m.\u001b[39msave(encoder\u001b[38;5;241m.\u001b[39mstate_dict(), \u001b[38;5;124m\"\u001b[39m\u001b[38;5;124mencoder_backup.pt\u001b[39m\u001b[38;5;124m\"\u001b[39m)\n",
      "\u001b[0;31mZeroDivisionError\u001b[0m: division by zero"
     ]
    }
   ],
   "source": [
    "num_epochs = 300\n",
    "epoch_backup_spacing = 10\n",
    "epoch_display_spacing = 10\n",
    "h = LossesHandler(\"test_losses.csv\", \"train_losses.csv\")\n",
    "\n",
    "encoder = Encoder()\n",
    "decoder = Decoder()\n",
    "encoder.to(device)\n",
    "decoder.to(device)\n",
    "\n",
    "# spec lengths chosen randomly at each epochs\n",
    "num_choices = int((max_spec_length - min_spec_length) / 16)\n",
    "\n",
    "criterion = nn.MSELoss()\n",
    "\n",
    "learning_rate = 0.01\n",
    "params = list(encoder.parameters()) + list(decoder.parameters())\n",
    "optimizer = optim.Adam(params, lr=learning_rate)\n",
    "\n",
    "master = master_bar(range(1, num_epochs+1))\n",
    "\n",
    "for epoch in master:\n",
    "    r = int(torch.randint(num_choices, size=(1, 1)))\n",
    "    l = min_spec_length + r * 16\n",
    "    train_loader.dataset.dataset.transform = make_spec_transform(l)\n",
    "    decoder.set_output_sequence_length(l)\n",
    "    print(f\"epoch with spec length: {l}\")\n",
    "    # Train: \n",
    "    for x, _genre in (\n",
    "        progress_bar(train_loader, parent=master) if master is not None else train_loader\n",
    "    ):\n",
    "        x = x.to(device)\n",
    "        encoded = encoder(x)\n",
    "        pred = decoder(encoded)\n",
    "        loss = criterion(x, pred)\n",
    "        h.add_train_loss(loss.detach().mean())\n",
    "\n",
    "        optimizer.zero_grad()\n",
    "        loss.backward()\n",
    "        optimizer.step()\n",
    "    \n",
    "    # Test:\n",
    "    with torch.no_grad():\n",
    "        for x, _genre in (\n",
    "            progress_bar(test_loader, parent=master) if master is not None else test_loader\n",
    "        ):\n",
    "            x = x.to(device)\n",
    "            encoded = encoder(x)\n",
    "            pred = decoder(encoded)\n",
    "            loss = criterion(x, pred)\n",
    "            h.add_test_loss(loss.mean())\n",
    "    \n",
    "    h.write_epoch_losses()\n",
    "    h.next_epoch(l)\n",
    "\n",
    "    if epoch % epoch_backup_spacing == 0:\n",
    "        test_avg, train_avg = [sum(x) / len(x) for x in [\n",
    "            h.test_losses[h.cur_epoch-1], h.train_losses[h.cur_epoch-1]\n",
    "        ]]\n",
    "        master.write(f\"Epoch {epoch}: avg test loss: {test_avg}, avg train loss: {train_avg}\")\n",
    "        torch.save(encoder.state_dict(), \"encoder_backup.pt\")\n",
    "        torch.save(decoder.state_dict(), \"decoder_backup.pt\")\n",
    "        h.write_averages(\"averages-backup.csv\")\n",
    "\n",
    "torch.save(encoder.state_dict(), \"encoder.pt\")\n",
    "torch.save(decoder.state_dict(), \"decoder.pt\")\n",
    "h.write_averages(\"averages.csv\")\n",
    "print(\"Hey it's ended\")"
   ]
  },
  {
   "cell_type": "code",
   "execution_count": 23,
   "metadata": {
    "execution": {
     "iopub.execute_input": "2022-05-10T10:49:27.464642Z",
     "iopub.status.busy": "2022-05-10T10:49:27.464347Z",
     "iopub.status.idle": "2022-05-10T10:49:27.470315Z",
     "shell.execute_reply": "2022-05-10T10:49:27.469677Z",
     "shell.execute_reply.started": "2022-05-10T10:49:27.464617Z"
    }
   },
   "outputs": [
    {
     "data": {
      "text/plain": [
       "60"
      ]
     },
     "execution_count": 23,
     "metadata": {},
     "output_type": "execute_result"
    }
   ],
   "source": [
    "len(h.test_losses[h.cur_epoch-1])"
   ]
  },
  {
   "cell_type": "markdown",
   "metadata": {},
   "source": [
    "Saving the model parameters..."
   ]
  },
  {
   "cell_type": "code",
   "execution_count": null,
   "metadata": {
    "execution": {
     "iopub.status.busy": "2022-05-10T10:18:05.373523Z",
     "iopub.status.idle": "2022-05-10T10:18:05.373808Z",
     "shell.execute_reply": "2022-05-10T10:18:05.373678Z",
     "shell.execute_reply.started": "2022-05-10T10:18:05.373661Z"
    }
   },
   "outputs": [],
   "source": [
    "# path_encoder = \"model-encoder.pt\"\n",
    "# path_decoder = \"model-decoder.pt\"\n",
    "# torch.save(encoder.state_dict(), path_encoder)\n",
    "# torch.save(decoder.state_dict(), path_decoder)\n",
    "\n",
    "# reload: \n",
    "# encoder = Encoder()\n",
    "# decoder = Decoder()\n",
    "# encoder.load_state_dict(torch.load(path_encoder))\n",
    "# decoder.load_state_dict(torch.load(path_decoder))"
   ]
  }
 ],
 "metadata": {
  "interpreter": {
   "hash": "492dea7e935c1c914fc29e6b01e49fd41d40ab73afca215ec71ee5791b9738b1"
  },
  "kernelspec": {
   "display_name": "Python 3 (ipykernel)",
   "language": "python",
   "name": "python3"
  },
  "language_info": {
   "codemirror_mode": {
    "name": "ipython",
    "version": 3
   },
   "file_extension": ".py",
   "mimetype": "text/x-python",
   "name": "python",
   "nbconvert_exporter": "python",
   "pygments_lexer": "ipython3",
   "version": "3.8.12"
  }
 },
 "nbformat": 4,
 "nbformat_minor": 4
}
