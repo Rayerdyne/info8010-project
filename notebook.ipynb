{
 "cells": [
  {
   "cell_type": "markdown",
   "metadata": {},
   "source": [
    "# INFO8010: Project\n",
    "Detailed description: see [README.md](README.md)"
   ]
  },
  {
   "cell_type": "markdown",
   "metadata": {},
   "source": [
    "## 0. Imports\n",
    "\n",
    "Importing torch and required libraries"
   ]
  },
  {
   "cell_type": "code",
   "execution_count": null,
   "metadata": {},
   "outputs": [],
   "source": [
    "from matplotlib.pyplot import plt\n",
    "import numpy as np\n",
    "import torch\n",
    "import torch.nn as nn"
   ]
  },
  {
   "cell_type": "markdown",
   "metadata": {},
   "source": [
    "## 0'. Global constants"
   ]
  },
  {
   "cell_type": "code",
   "execution_count": 1,
   "metadata": {},
   "outputs": [],
   "source": [
    "SAMPLING_RATE = 12000 # Hz (!= GTZAN dataset sampling rate)"
   ]
  },
  {
   "cell_type": "markdown",
   "metadata": {},
   "source": [
    "## 1. Data loading\n",
    "\n",
    "First, define the loader to be used to load the data for the GTZAN dataset (to start with, to be patched if not sufficient)"
   ]
  },
  {
   "cell_type": "code",
   "execution_count": null,
   "metadata": {},
   "outputs": [],
   "source": []
  },
  {
   "cell_type": "markdown",
   "metadata": {},
   "source": [
    "## 1. Defining the encoder and the decoder\n",
    "\n",
    "First define as `nn.Module`s:\n",
    "- the encoder\n",
    "   - Input: waveform\n",
    "   - Output: latent representation\n",
    "- the decoder\n",
    "   - Input: latent representation\n",
    "   - Ouptput: waveform\n",
    "- an encoder-decoder that chains them both for convenience"
   ]
  },
  {
   "cell_type": "code",
   "execution_count": null,
   "metadata": {},
   "outputs": [],
   "source": [
    "# number of samples between successive frames\n",
    "mel_hop_length = 256\n",
    "mel_n_mels = 128\n",
    "\n",
    "class Encoder(nn.Module):\n",
    "    def __init__(self, n_inputs):\n",
    "        super().__init__()\n",
    "\n",
    "        self.encoder = nn.Sequential(\n",
    "            nn.Linear(n_inputs, 123),\n",
    "            nn.ReLU(),\n",
    "            nn.Linear(123, 3)\n",
    "        )\n",
    "    \n",
    "    def forward(self, x):\n",
    "        ms = librosa.feature.melspectrogram(\n",
    "            x, sr=SAMPLING_RATE,\n",
    "            hop_length=mel_hop_length,\n",
    "            window=\"hann\",\n",
    "            n_mels=)\n",
    "        return self.encoder(x)\n",
    "\n",
    "\n",
    "class Decoder(nn.Module):\n",
    "    def __init__(self, n_outputs):\n",
    "        super().__init__()\n",
    "\n",
    "        self.decoder = nn.Sequential(\n",
    "            nn.Linear(3, 123),\n",
    "            nn.ReLU(),\n",
    "            nn.Linear(123, n_outputs)\n",
    "        )\n",
    "    \n",
    "    def forward(self, x):\n",
    "        return self.decoder(x)\n",
    "\n",
    "class EncoderDecoder(nn.Module):\n",
    "    def __init__(self, n_inputs):\n",
    "        super().__init__()\n",
    "\n",
    "        self.encoder = Encoder(n_inputs)\n",
    "        self.decoder = Decoder(n_inputs)\n",
    "    \n",
    "    def forward(self, x):\n",
    "        x = self.encoder(x)\n",
    "        x = self.decoder(x)\n",
    "        return x"
   ]
  }
 ],
 "metadata": {
  "interpreter": {
   "hash": "492dea7e935c1c914fc29e6b01e49fd41d40ab73afca215ec71ee5791b9738b1"
  },
  "kernelspec": {
   "display_name": ".env",
   "language": "python",
   "name": "python3"
  },
  "language_info": {
   "codemirror_mode": {
    "name": "ipython",
    "version": 3
   },
   "file_extension": ".py",
   "mimetype": "text/x-python",
   "name": "python",
   "nbconvert_exporter": "python",
   "pygments_lexer": "ipython3",
   "version": "3.8.10"
  }
 },
 "nbformat": 4,
 "nbformat_minor": 2
}
