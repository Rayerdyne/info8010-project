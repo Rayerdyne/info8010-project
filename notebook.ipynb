{
 "cells": [
  {
   "cell_type": "markdown",
   "metadata": {},
   "source": [
    "# INFO8010: Project\n",
    "Detailed description: see [README.md](README.md)\n",
    "\n",
    "NB: references in this notebook point towards the README's references"
   ]
  },
  {
   "cell_type": "markdown",
   "metadata": {},
   "source": [
    "## 0. Preamble\n",
    "\n",
    "Importing torch and required libraries, plus miscellaneous definitions\n",
    "\n",
    "### 0.1. Imports"
   ]
  },
  {
   "cell_type": "code",
   "execution_count": 1,
   "metadata": {},
   "outputs": [],
   "source": [
    "import matplotlib.pyplot as plt\n",
    "import numpy as np\n",
    "import torch\n",
    "import torch.nn as nn\n",
    "import torch.utils.data as torchdata\n",
    "import torchvision.transforms as imgtransforms\n",
    "\n",
    "from typing import Tuple\n",
    "\n",
    "from torchvision import models as imgmodels\n",
    "\n",
    "from data import SpecDataset"
   ]
  },
  {
   "cell_type": "markdown",
   "metadata": {},
   "source": [
    "### 0.2. Audio player\n",
    "\n",
    "As this features does not work on VS Code, here is a work-around stolen from [here](https://github.com/microsoft/vscode-jupyter/issues/1012#issuecomment-785410064) to have a working audio player on VSC."
   ]
  },
  {
   "cell_type": "code",
   "execution_count": 2,
   "metadata": {},
   "outputs": [
    {
     "data": {
      "application/vnd.jupyter.widget-view+json": {
       "model_id": "efaec74527784c92a1e2dd895780deda",
       "version_major": 2,
       "version_minor": 0
      },
      "text/plain": [
       "Checkbox(value=False, description='VS Code user ?', indent=False)"
      ]
     },
     "metadata": {},
     "output_type": "display_data"
    }
   ],
   "source": [
    "import ipywidgets as widgets\n",
    "\n",
    "vsc_check = widgets.Checkbox(\n",
    "    value=False,\n",
    "    description=\"VS Code user ?\",\n",
    "    disabled=False,\n",
    "    tooltip=\"Do you use VS Code to see this notebook ?\",\n",
    "    indent=False,\n",
    ")\n",
    "\n",
    "display(vsc_check)"
   ]
  },
  {
   "cell_type": "code",
   "execution_count": 3,
   "metadata": {},
   "outputs": [],
   "source": [
    "import IPython.display as ipd\n",
    "import json\n",
    "\n",
    "def VSC_Audio(audio: np.ndarray, sr: int):\n",
    "    \"\"\"\n",
    "    Use instead of IPython.display.Audio as a workaround for VS Code.\n",
    "    `audio` is an array with shape (channels, samples) or just (samples,) for mono.\n",
    "    \"\"\"\n",
    "\n",
    "    if np.ndim(audio) == 1:\n",
    "        channels = [audio.tolist()]\n",
    "    else:\n",
    "        channels = audio.tolist()\n",
    "\n",
    "    return ipd.HTML(\"\"\"\n",
    "        <script>\n",
    "            if (!window.audioContext) {\n",
    "                window.audioContext = new AudioContext();\n",
    "                window.playAudio = function(audioChannels, sr) {\n",
    "                    const buffer = audioContext.createBuffer(audioChannels.length, audioChannels[0].length, sr);\n",
    "                    for (let [channel, data] of audioChannels.entries()) {\n",
    "                        buffer.copyToChannel(Float32Array.from(data), channel);\n",
    "                    }\n",
    "            \n",
    "                    const source = audioContext.createBufferSource();\n",
    "                    source.buffer = buffer;\n",
    "                    source.connect(audioContext.destination);\n",
    "                    source.start();\n",
    "                }\n",
    "            }\n",
    "        </script>\n",
    "        <button onclick=\"playAudio(%s, %s)\">Play</button>\n",
    "    \"\"\" % (json.dumps(channels), sr))\n",
    "\n",
    "def NonVSC_Audio(audio, sr):\n",
    "    return ipd.Audio(audio, rate=sr)\n",
    "\n",
    "audio_player = VSC_Audio if vsc_check.value else NonVSC_Audio"
   ]
  },
  {
   "cell_type": "markdown",
   "metadata": {},
   "source": [
    "## 1. Data loading\n",
    "\n",
    "First, define:\n",
    "1. the transformer used to pre-process the data\n",
    "1. the loader to be used to load the data for the GTZAN dataset (to start with, to be patched if not sufficient)\n",
    "\n",
    "### 1.1. Transformer\n",
    "\n",
    "**Reminder**: Mel spectrogram \"algo\"\n",
    "1. Take a window of `win_length` samples of the input at current position\n",
    "2. Compute fft with frequency spectrum is sepatated in `n_mels` evenly spaced frequencies, then apply mel scale on it (log-like), use `n_fft` samples for that computation\n",
    "3. Append the computed column to the result\n",
    "4. Move the window of `hop_length`\n",
    "5. Restart in 1.\n",
    "\n",
    "For an input of length `N`, this results in a matrix that has:\n",
    "- `N / hop_length` columns\n",
    "- `n_mels` rows\n",
    "\n",
    "In our case, as input sequence are cropped at `sequence_duration` seconds, aim at:\n",
    "- Width: `ceil(sequence_duration × sampling_rate / hop_length)` columns\n",
    "- Height: `n_mels`"
   ]
  },
  {
   "cell_type": "code",
   "execution_count": 4,
   "metadata": {},
   "outputs": [],
   "source": [
    "# Duration of the sequence to randomly crop out of the original sequence\n",
    "sequence_duration = 20    # s\n",
    "\n",
    "# parameters value taken from reference [1]\n",
    "gtzan_sampling_rate = 22050 # Hz\n",
    "sampling_rate = 12000      # 12 kHz\n",
    "\n",
    "transform = imgtransforms.RandomApply([\n",
    "    imgtransforms.ColorJitter(brightness=0.3, contrast=0.3, saturation=0.4, hue=0.1),\n",
    "    imgtransforms.GaussianBlur(3, sigma=(0.1, 1)),\n",
    "    imgtransforms.RandomErasing(p=0.4)\n",
    "], p=0.7)"
   ]
  },
  {
   "cell_type": "markdown",
   "metadata": {},
   "source": [
    "### 1.2. Data loader\n",
    "\n",
    "(and dataset)\n",
    "\n",
    "TODO: split dataset in train and test sets"
   ]
  },
  {
   "cell_type": "code",
   "execution_count": 5,
   "metadata": {},
   "outputs": [],
   "source": [
    "batch_size = 5\n",
    "num_workers = 1\n",
    "\n",
    "dataset = SpecDataset(\n",
    "    \"data/gtzan\",\n",
    "    sequence_duration=sequence_duration,\n",
    "    sampling_rate=sampling_rate,\n",
    "    transform=transform\n",
    ")\n",
    "data_loader = torchdata.DataLoader(\n",
    "    dataset,\n",
    "    batch_size=batch_size,\n",
    "    shuffle=True,\n",
    "    num_workers=num_workers\n",
    ")"
   ]
  },
  {
   "cell_type": "markdown",
   "metadata": {},
   "source": [
    "NB: `spec` has the dimensions: (batch, channel, frequency, time), where\n",
    "- batch correspond to the id of the sample in the batch\n",
    "- channel is artificial construction to use resnet models, spans across the different spectrograms\n",
    "- frequency spans across the frequency range of the window\n",
    "- time indicate the time of the window\n",
    "### 1.3. Test loading"
   ]
  },
  {
   "cell_type": "code",
   "execution_count": 6,
   "metadata": {},
   "outputs": [
    {
     "name": "stdout",
     "output_type": "stream",
     "text": [
      "spec shape: torch.Size([5, 3, 128, 801])\n"
     ]
    },
    {
     "data": {
      "text/plain": [
       "<matplotlib.image.AxesImage at 0x7f0fc4293700>"
      ]
     },
     "execution_count": 6,
     "metadata": {},
     "output_type": "execute_result"
    },
    {
     "data": {
      "image/png": "[encoded data removed]",
      "text/plain": [
       "<Figure size 432x288 with 1 Axes>"
      ]
     },
     "metadata": {
      "needs_background": "light"
     },
     "output_type": "display_data"
    }
   ],
   "source": [
    "spec, genre = next(iter(data_loader))\n",
    "print(f\"spec shape: {spec.shape}\")\n",
    "plt.imshow(spec[0][0], vmin=0, vmax=0.5)\n"
   ]
  },
  {
   "cell_type": "markdown",
   "metadata": {},
   "source": [
    "## 2. Defining the encoder and the decoder\n",
    "\n",
    "Define as `nn.Module`s:\n",
    "- the encoder\n",
    "   - Input: waveform\n",
    "   - Output: latent representation\n",
    "- the decoder\n",
    "   - Input: latent representation\n",
    "   - Ouptput: waveform\n",
    "- an encoder-decoder that chains them both for convenience\n",
    "\n",
    "### Shapes\n",
    "| Stage                  | Shape            | Meaning                      |\n",
    "| ---------------------- | ---------------- | ---------------------------- |\n",
    "| Input `spec`           | [5, 3, 128, 801] | (batch, channel, freq, time) |\n",
    "| Output of `ResNet34Cut`| [5, 256, 8, 51]  | (batch, stack, freq2, time2) |\n",
    "| Intput of LSTM         | [5, 2048, 51]    | (batch, freq3, time3)        |\n",
    "| Output of LSTM         | [5, 2048]        | (batch, component)           |"
   ]
  },
  {
   "cell_type": "markdown",
   "metadata": {},
   "source": [
    "### 2.1 Resnet utilities\n",
    "\n",
    "Cut the resnet34 architecture to keep more detailed information (and not loose temporal dimension):\n",
    "\n",
    "NB: the `forward` implementation is almost copy-pasted from the torchvision sources, from [here](https://pytorch.org/vision/main/_modules/torchvision/models/resnet.html#resnet34).\n",
    "\n",
    "Also, define an inverse module for that architecture to be used in the decoder."
   ]
  },
  {
   "cell_type": "code",
   "execution_count": 56,
   "metadata": {},
   "outputs": [],
   "source": [
    "class ResNet34Cut(imgmodels.ResNet):\n",
    "    def __init__(self, pretrained=True):\n",
    "        resnet = imgmodels.resnet34(pretrained=pretrained)\n",
    "        for k, v in resnet.__dict__.items():\n",
    "            setattr(self, k, v)\n",
    "        \n",
    "        # self.fc = nn.Linear(256, 1000)\n",
    "    \n",
    "    def forward(self, x: torch.Tensor) -> torch.Tensor:\n",
    "        x = self.conv1(x)\n",
    "        x = self.bn1(x)\n",
    "        x = self.relu(x)\n",
    "        x = self.maxpool(x)\n",
    "\n",
    "        x = self.layer1(x)\n",
    "        x = self.layer2(x)\n",
    "        x = self.layer3(x)\n",
    "\n",
    "        return x\n",
    "\n",
    "class InverseResNet34Cut(nn.Module):\n",
    "    channels = [256, 128, 64, 64, 3]\n",
    "    kernel_sizes = [(3, 3), (3, 3), (3, 3), (3, 3)]\n",
    "    mid_kernel_size = (3, 3)\n",
    "    num_mid_layers = [2, 1, 1, 0]\n",
    "\n",
    "    def __init__(self):\n",
    "        super().__init__()\n",
    "        self.layer1 = self._make_layer(\n",
    "            in_channels = self.channels[0],\n",
    "            out_channels = self.channels[1],\n",
    "            kernel_size = self.kernel_sizes[0],\n",
    "            padding = (1, 2),\n",
    "            num_mid_layers = self.num_mid_layers[0],\n",
    "            mid_kernel_size = self.mid_kernel_size,\n",
    "        )\n",
    "        \n",
    "        self.layer2 = self._make_layer(\n",
    "            in_channels = self.channels[1], \n",
    "            out_channels = self.channels[2],\n",
    "            kernel_size = self.kernel_sizes[1],\n",
    "            num_mid_layers = self.num_mid_layers[1],\n",
    "            mid_kernel_size = self.mid_kernel_size\n",
    "        )\n",
    "        \n",
    "        self.layer3 = self._make_layer(\n",
    "            in_channels = self.channels[2], \n",
    "            out_channels = self.channels[3],\n",
    "            kernel_size = self.kernel_sizes[2],\n",
    "            num_mid_layers =self.num_mid_layers[2],\n",
    "            mid_kernel_size = self.mid_kernel_size\n",
    "        )\n",
    "\n",
    "        self.layer4 = self._make_layer(\n",
    "            in_channels = self.channels[3],\n",
    "            out_channels = self.channels[4],\n",
    "            kernel_size = self.kernel_sizes[3],\n",
    "            num_mid_layers = self.num_mid_layers[3],\n",
    "            mid_kernel_size = self.mid_kernel_size,\n",
    "            padding = (1, 0),\n",
    "            output_padding = (1, 0)\n",
    "        )\n",
    "    \n",
    "    def _make_transition_layer(\n",
    "        self,\n",
    "        in_channels: int,\n",
    "        out_channels: int,\n",
    "        kernel_size: Tuple[int, int],\n",
    "        padding: Tuple[int, int] = (1, 1),\n",
    "        output_padding: Tuple[int, int] = (1, 1)\n",
    "    ) -> nn.Module:\n",
    "        return nn.Sequential(\n",
    "            nn.ConvTranspose2d(\n",
    "                in_channels=in_channels,\n",
    "                out_channels=out_channels,\n",
    "                kernel_size=kernel_size,\n",
    "                stride=(2, 2),\n",
    "                padding=padding,\n",
    "                output_padding=output_padding\n",
    "            ),\n",
    "            nn.BatchNorm2d(out_channels, momentum=0.01),\n",
    "            nn.ReLU()\n",
    "        )\n",
    "    \n",
    "    def _make_mid_layer(self, channels: int, kernel_size: int) -> nn.Module:\n",
    "        return nn.Sequential(\n",
    "            nn.ConvTranspose2d(\n",
    "                in_channels=channels,\n",
    "                out_channels=channels,\n",
    "                kernel_size=kernel_size,\n",
    "                padding=1\n",
    "            ),\n",
    "            nn.BatchNorm2d(channels, momentum=0.01),\n",
    "            nn.ReLU()\n",
    "        )\n",
    "    \n",
    "    def _make_layer(\n",
    "        self,\n",
    "        in_channels: int,\n",
    "        out_channels: int,\n",
    "        kernel_size: Tuple[int, int],\n",
    "        num_mid_layers: int,\n",
    "        mid_kernel_size: Tuple[int, int],\n",
    "        padding: Tuple[int, int] = (1, 1),\n",
    "        output_padding: Tuple[int, int] = (1, 1),\n",
    "    ) -> nn.Module:\n",
    "        l = []\n",
    "        l.append(self._make_transition_layer(\n",
    "            in_channels, out_channels, kernel_size, padding, output_padding\n",
    "        ))\n",
    "        for _ in range(num_mid_layers):\n",
    "            l.append(self._make_mid_layer(out_channels, mid_kernel_size))\n",
    "        \n",
    "        return nn.Sequential(*l)\n",
    "    \n",
    "    def forward(self, x: torch.Tensor) -> torch.Tensor:\n",
    "        # x.shape = [5, 256, 8, 51]\n",
    "        x = self.layer1(x)\n",
    "        # x.shape = [5, 128, 16, 100]\n",
    "        x = self.layer2(x)\n",
    "        # x.shape = [5, 64, 32, 200]\n",
    "        x = self.layer3(x)\n",
    "        # x.shape = [5, 32, 32, 400]\n",
    "        x = self.layer4(x)\n",
    "        # x.shape = [5, 3, 128, 801]\n",
    "        return x"
   ]
  },
  {
   "cell_type": "code",
   "execution_count": 57,
   "metadata": {},
   "outputs": [
    {
     "name": "stdout",
     "output_type": "stream",
     "text": [
      "x.shape = torch.Size([1, 3, 128, 801])\n",
      "y.shape = torch.Size([1, 256, 8, 51])\n",
      "z.shape = torch.Size([1, 3, 128, 801])\n"
     ]
    }
   ],
   "source": [
    "# test shapes are coherent\n",
    "resnet = ResNet34Cut()\n",
    "inverse = InverseResNet34Cut()\n",
    "\n",
    "x = torch.randn([1, 3, 128, 801])\n",
    "print(f\"x.shape = {x.shape}\")\n",
    "y = resnet(x)\n",
    "print(f\"y.shape = {y.shape}\")\n",
    "z = inverse(y)\n",
    "print(f\"z.shape = {z.shape}\")"
   ]
  },
  {
   "cell_type": "markdown",
   "metadata": {},
   "source": [
    "### 2.2 Encoder and decoder"
   ]
  },
  {
   "cell_type": "code",
   "execution_count": 102,
   "metadata": {},
   "outputs": [],
   "source": [
    "class Encoder(nn.Module):\n",
    "    def __init__(\n",
    "        self,\n",
    "        lstm_input_size: int = 2048,\n",
    "        hidden_size: int = 2048,\n",
    "        num_lstm_layers: int = 1,\n",
    "        output_size: int = 2048\n",
    "    ):\n",
    "        super(Encoder, self).__init__()\n",
    "\n",
    "        self.resnet = ResNet34Cut(pretrained=True)\n",
    "        self.lstm = nn.LSTM(\n",
    "            input_size=lstm_input_size,\n",
    "            hidden_size=hidden_size,\n",
    "            num_layers=num_lstm_layers,\n",
    "            batch_first=True,\n",
    "            # no need to specify sequence length\n",
    "        )\n",
    "        self.h0 = nn.parameter.Parameter(torch.randn(hidden_size))\n",
    "        self.c0 = nn.parameter.Parameter(torch.randn(hidden_size))\n",
    "\n",
    "        self.fc = nn.Linear(hidden_size, output_size)\n",
    "        \n",
    "    \n",
    "    def forward(self, x: torch.Tensor) -> torch.Tensor:\n",
    "        batch_size = x.shape[0]\n",
    "        # x.shape = [5, 3, 128, 801]\n",
    "        x = self.resnet(x)\n",
    "        # # x.shape = [5, 256, 8, 51] \n",
    "        # x = x.view(5, -1, 51)\n",
    "        # # x.shape = [5, 2048, 51]\n",
    "        # x = x.swapaxes(1, 2)\n",
    "        x = x.view(batch_size, -1, 51).swapaxes(1, 2)\n",
    "        # x.shape = [5, 51, 2048]\n",
    "        h0 = self.h0.repeat(batch_size, 1).unsqueeze(0)\n",
    "        c0 = self.c0.repeat(batch_size, 1).unsqueeze(0)\n",
    "        output, (hn, cn) = self.lstm(x, (h0, c0))\n",
    "        # x.shape = [5, 2048]\n",
    "        x = self.fc(hn)\n",
    "        # x.shape = [5, output_size]\n",
    "        return x\n",
    "\n",
    "class Decoder(nn.Module):\n",
    "    def __init__(\n",
    "        self,\n",
    "        input_size=2048,\n",
    "        lstm_input_size=2048,\n",
    "        hidden_size=2048,\n",
    "        sequence_length=51,\n",
    "        num_lstm_layers=1\n",
    "    ):\n",
    "        super(Decoder, self).__init__()\n",
    "\n",
    "        self.const_x = nn.parameter.Parameter(torch.randn(hidden_size))\n",
    "        self.const_xr = self.const_x.repeat(1, sequence_length-1, 1)\n",
    "        self.h0 = nn.parameter.Parameter(torch.randn(hidden_size))\n",
    "        self.c0 = nn.parameter.Parameter(torch.randn(hidden_size))\n",
    "\n",
    "        self.fc = nn.Linear(input_size, lstm_input_size)\n",
    "        self.lstm = nn.LSTM(\n",
    "            input_size=input_size,\n",
    "            hidden_size=hidden_size,\n",
    "            num_layers=num_lstm_layers,\n",
    "            batch_first=True,\n",
    "            # no need to specify sequence length\n",
    "        )\n",
    "        self.reverse_resnet = InverseResNet34Cut()\n",
    "        self.hidden_size = hidden_size\n",
    "        self.sequence_length = sequence_length\n",
    "    \n",
    "    def forward(self, x: torch.Tensor) -> torch.Tensor:\n",
    "        batch_size = x.shape[0]\n",
    "        # x.shape = [5, input_size]\n",
    "        x = self.fc(x)\n",
    "        # x.shape = [5, lstm_input_size]\n",
    "\n",
    "        fill = self.const_xr.repeat(batch_size, 1, 1)\n",
    "        lstm_input = torch.cat([x, fill], 1)\n",
    "        # x.shape = [5, lstm_input_size]\n",
    "        h0 = self.h0.repeat(batch_size, 1).unsqueeze(0)\n",
    "        c0 = self.c0.repeat(batch_size, 1).unsqueeze(0)\n",
    "        x, (hn, cn) = self.lstm(lstm_input, (h0, c0))\n",
    "        # # x.shape = [5, 51, 2048]\n",
    "        # x = x.swapaxes(1, 2)\n",
    "        # # x.shape = [5, 2048, 51]\n",
    "        # x = x.view(5, 256, 8, 51)\n",
    "        x = x.swapaxes(1, 2).view(batch_size, 256, 8, 51)\n",
    "        \n",
    "        # x.shape = [5, 256, 8, 51]\n",
    "        x = self.reverse_resnet(x)\n",
    "\n",
    "        # x.shape = [5, 3, 128, 801]\n",
    "        return x\n",
    "\n",
    "\n",
    "class EncoderDecoder(nn.Module):\n",
    "    def __init__(\n",
    "        self,\n",
    "        lstm_input_size=2048,\n",
    "        hidden_size=2048,\n",
    "        sequence_length=51,\n",
    "        num_lstm_layers=1\n",
    "    ):\n",
    "        super(EncoderDecoder, self).__init__()\n",
    "\n",
    "        self.encoder = Encoder(\n",
    "            lstm_input_size=lstm_input_size,\n",
    "            hidden_size=hidden_size,\n",
    "            sequence_length=sequence_length,\n",
    "            num_lstm_layers=num_lstm_layers\n",
    "        )\n",
    "        self.decoder = Decoder(\n",
    "            lstm_input_size=lstm_input_size,\n",
    "            hidden_size=hidden_size,\n",
    "            sequence_length=sequence_length,\n",
    "            num_lstm_layers=num_lstm_layers\n",
    "        )\n",
    "    \n",
    "    def forward(self, x: torch.Tensor) -> torch.Tensor:\n",
    "        x = self.encoder(x)\n",
    "        x = self.decoder(x)\n",
    "        return x"
   ]
  },
  {
   "cell_type": "code",
   "execution_count": 92,
   "metadata": {},
   "outputs": [
    {
     "data": {
      "text/plain": [
       "torch.Size([3, 9, 5])"
      ]
     },
     "execution_count": 92,
     "metadata": {},
     "output_type": "execute_result"
    }
   ],
   "source": [
    "v = torch.tensor([1, 2, 3, 4, 5])\n",
    "v = v.repeat(1, 9, 1)\n",
    "# u = torch.tensor([2**i for i in range(10)]).reshape(2, 1, 5)\n",
    "# torch.cat([u, v], 1)\n",
    "v.repeat(3, 1, 1).shape\n"
   ]
  },
  {
   "cell_type": "code",
   "execution_count": 103,
   "metadata": {},
   "outputs": [
    {
     "name": "stdout",
     "output_type": "stream",
     "text": [
      "y.shape = torch.Size([1, 3, 128, 801])\n"
     ]
    }
   ],
   "source": [
    "# testing...\n",
    "\n",
    "encoder = Encoder()\n",
    "decoder = Decoder()\n",
    "\n",
    "x = torch.randn([1, 3, 128, 801])\n",
    "v = encoder(x)\n",
    "y = decoder(v)\n",
    "print(f\"y.shape = {y.shape}\")"
   ]
  }
 ],
 "metadata": {
  "interpreter": {
   "hash": "492dea7e935c1c914fc29e6b01e49fd41d40ab73afca215ec71ee5791b9738b1"
  },
  "kernelspec": {
   "display_name": "Python 3 (ipykernel)",
   "language": "python",
   "name": "python3"
  },
  "language_info": {
   "codemirror_mode": {
    "name": "ipython",
    "version": 3
   },
   "file_extension": ".py",
   "mimetype": "text/x-python",
   "name": "python",
   "nbconvert_exporter": "python",
   "pygments_lexer": "ipython3",
   "version": "3.8.10"
  }
 },
 "nbformat": 4,
 "nbformat_minor": 2
}
