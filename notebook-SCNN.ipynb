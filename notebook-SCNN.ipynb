{
 "cells": [
  {
   "cell_type": "markdown",
   "metadata": {},
   "source": [
    "# INFO8010: Project\n",
    "Detailed description: see [README.md](README.md)\n",
    "\n",
    "NB: references in this notebook point towards the README's references"
   ]
  },
  {
   "cell_type": "markdown",
   "metadata": {},
   "source": [
    "## 0. Preamble\n",
    "\n",
    "Importing torch and required libraries, plus miscellaneous definitions\n",
    "\n",
    "### 0.0. Installing packages"
   ]
  },
  {
   "cell_type": "code",
   "execution_count": 1,
   "metadata": {},
   "outputs": [
    {
     "name": "stdout",
     "output_type": "stream",
     "text": [
      "\u001b[31mERROR: Invalid requirement: 'pandas=1.4.2' (from line 11 of requirements.txt)\n",
      "Hint: = is not a valid operator. Did you mean == ?\u001b[0m\n"
     ]
    }
   ],
   "source": [
    "!pip install -r requirements.txt"
   ]
  },
  {
   "cell_type": "markdown",
   "metadata": {},
   "source": [
    "### 0.1. Imports & device"
   ]
  },
  {
   "cell_type": "code",
   "execution_count": 12,
   "metadata": {},
   "outputs": [],
   "source": [
    "import matplotlib.pyplot as plt\n",
    "import numpy as np\n",
    "import pandas as pd\n",
    "import torch\n",
    "import torch.nn as nn\n",
    "import torch.utils.data as torchdata\n",
    "import torch.optim as optim\n",
    "import torchvision.transforms as imgtransforms\n",
    "\n",
    "from typing import Tuple\n",
    "from math import ceil\n",
    "\n",
    "from torchvision import models as imgmodels\n",
    "\n",
    "from data import SpecDataset, N_MELS, HOP_LENGTHS\n",
    "from fastprogress.fastprogress import master_bar, progress_bar\n",
    "\n",
    "device = torch.device(\"cuda\" if torch.cuda.is_available() else \"cpu\")"
   ]
  },
  {
   "cell_type": "markdown",
   "metadata": {},
   "source": [
    "### 0.2. Audio player\n",
    "\n",
    "As this features does not work on VS Code, here is a work-around stolen from [here](https://github.com/microsoft/vscode-jupyter/issues/1012#issuecomment-785410064) to have a working audio player on VSC."
   ]
  },
  {
   "cell_type": "code",
   "execution_count": 3,
   "metadata": {},
   "outputs": [
    {
     "data": {
      "application/vnd.jupyter.widget-view+json": {
       "model_id": "28a36ad2c9ec482a999f449f9c3e5cdf",
       "version_major": 2,
       "version_minor": 0
      },
      "text/plain": [
       "Checkbox(value=False, description='VS Code user ?', indent=False)"
      ]
     },
     "metadata": {},
     "output_type": "display_data"
    }
   ],
   "source": [
    "import ipywidgets as widgets\n",
    "\n",
    "\n",
    "vsc_check = widgets.Checkbox(\n",
    "    value=False,\n",
    "    description=\"VS Code user ?\",\n",
    "    disabled=False,\n",
    "    tooltip=\"Do you use VS Code to see this notebook ?\",\n",
    "    indent=False,\n",
    ")\n",
    "\n",
    "display(vsc_check)"
   ]
  },
  {
   "cell_type": "code",
   "execution_count": 4,
   "metadata": {},
   "outputs": [],
   "source": [
    "import IPython.display as ipd\n",
    "import json\n",
    "\n",
    "def VSC_Audio(audio: np.ndarray, sr: int):\n",
    "    \"\"\"\n",
    "    Use instead of IPython.display.Audio as a workaround for VS Code.\n",
    "    `audio` is an array with shape (channels, samples) or just (samples,) for mono.\n",
    "    \"\"\"\n",
    "\n",
    "    if np.ndim(audio) == 1:\n",
    "        channels = [audio.tolist()]\n",
    "    else:\n",
    "        channels = audio.tolist()\n",
    "\n",
    "    return ipd.HTML(\"\"\"\n",
    "        <script>\n",
    "            if (!window.audioContext) {\n",
    "                window.audioContext = new AudioContext();\n",
    "                window.playAudio = function(audioChannels, sr) {\n",
    "                    const buffer = audioContext.createBuffer(audioChannels.length, audioChannels[0].length, sr);\n",
    "                    for (let [channel, data] of audioChannels.entries()) {\n",
    "                        buffer.copyToChannel(Float32Array.from(data), channel);\n",
    "                    }\n",
    "            \n",
    "                    const source = audioContext.createBufferSource();\n",
    "                    source.buffer = buffer;\n",
    "                    source.connect(audioContext.destination);\n",
    "                    source.start();\n",
    "                }\n",
    "            }\n",
    "        </script>\n",
    "        <button onclick=\"playAudio(%s, %s)\">Play</button>\n",
    "    \"\"\" % (json.dumps(channels), sr))\n",
    "\n",
    "def NonVSC_Audio(audio, sr):\n",
    "    return ipd.Audio(audio, rate=sr)\n",
    "\n",
    "audio_player = VSC_Audio if vsc_check.value else NonVSC_Audio"
   ]
  },
  {
   "cell_type": "markdown",
   "metadata": {},
   "source": [
    "## 1. Data loading\n",
    "\n",
    "First, define:\n",
    "1. the transformer used to pre-process the data\n",
    "1. the loader to be used to load the data for the GTZAN dataset (to start with, to be patched if not sufficient)\n",
    "\n",
    "### 1.1. Transformer\n",
    "\n",
    "**Reminder**: Mel spectrogram \"algo\"\n",
    "1. Take a window of `win_length` samples of the input at current position\n",
    "2. Compute fft with frequency spectrum is sepatated in `n_mels` evenly spaced frequencies, then apply mel scale on it (log-like), use `n_fft` samples for that computation\n",
    "3. Append the computed column to the result\n",
    "4. Move the window of `hop_length`\n",
    "5. Restart in 1.\n",
    "\n",
    "For an input of length `N`, this results in a matrix that has:\n",
    "- `N // hop_length + 1` columns\n",
    "- `n_mels` rows\n",
    "\n",
    "In our case, as input sequence are cropped at `sequence_duration` seconds, aim at:\n",
    "- Width: `ceil(sequence_duration × sampling_rate / hop_length)` columns\n",
    "- Height: `n_mels`\n",
    "\n",
    "#### Variable input length support\n",
    "\n",
    "Later on, we will require the spectrogram length (number of columns) to express like `L = 16×n + 1` so that resnet behaves well. We will directly crop the input waveform at the right length, so that we avoid to zero-pad the spectrograms what would mean an abrupt, unwanted end of the music.\n",
    "\n",
    "We get: `L = N // hop_length + 1 = 16×n+1`\n",
    "\n",
    "Hence:  `N // hop_length = 16×n`\n",
    "\n",
    "Thus:   `N = (16×hop_length)×n+r`, where `r` is an integer in the interval `[0, hop_length[`"
   ]
  },
  {
   "cell_type": "code",
   "execution_count": 5,
   "metadata": {},
   "outputs": [],
   "source": [
    "# Duration of the sequence to randomly crop out of the original sequence\n",
    "sequence_durations = (20, 27)    # s\n",
    "\n",
    "# parameters value taken from reference [1]\n",
    "gtzan_sampling_rate = 22050 # Hz\n",
    "sampling_rate = 12000      # 12 kHz\n",
    "\n",
    "# sampling_rate is a multiple of 16 so it's fine if seconds are even for \n",
    "# the spectrograms to shape like 16×n+1 for the resnet nice behaviour\n",
    "min_spec_length_seconds = 20\n",
    "max_spec_length_seconds = 28\n",
    "min_spec_length, max_spec_length = [int((x * sampling_rate) / HOP_LENGTHS[1] + 1) for x in [\n",
    "    min_spec_length_seconds, max_spec_length_seconds\n",
    "]]\n",
    "\n",
    "class OurRandomCrop(object):\n",
    "    \"\"\"\n",
    "    Cannot work because of concurrency, and have to stack tensors of same dimensions\n",
    "    in a same minibatch...\n",
    "    \"\"\"\n",
    "    def __init__(self, height: int, bounds: Tuple[int, int], step: int = 1):\n",
    "        self.height = height\n",
    "        self.base = bounds[0]\n",
    "        self.num = int(ceil((bounds[1] - bounds[0]) / step))\n",
    "        self.step = step\n",
    "        self.batch_size = 5\n",
    "        self.counter = 0\n",
    "    \n",
    "    def __call__(self, x: torch.Tensor) -> torch.Tensor:\n",
    "        if self.counter == 0:\n",
    "            self.counter = self.batch_size - 1\n",
    "            self.r = int(torch.randint(self.num, (1, 1)))\n",
    "        self.counter = (self.counter + 1) % 5\n",
    "        l = self.base + self.r * self.step\n",
    "        return imgtransforms.RandomCrop((self.height, l))(x)\n",
    "    \n",
    "\n",
    "def make_spec_transform(spec_length: int):\n",
    "    return imgtransforms.Compose([\n",
    "        imgtransforms.RandomCrop((N_MELS, spec_length)),\n",
    "        imgtransforms.RandomApply([\n",
    "            imgtransforms.ColorJitter(brightness=0.3, contrast=0.3, saturation=0.4, hue=0.1),\n",
    "            imgtransforms.GaussianBlur(3, sigma=(0.1, 1)),\n",
    "            imgtransforms.RandomErasing(p=0.4)\n",
    "        ], p=0.7)\n",
    "    ])\n",
    "\n",
    "transform = make_spec_transform(min_spec_length)"
   ]
  },
  {
   "cell_type": "markdown",
   "metadata": {},
   "source": [
    "### 1.2. Dataset and data loader\n",
    "\n",
    "We split the original dataset (1000 sequences long) into test and train set:\n",
    "- Training set will be 70% of the dataset\n",
    "- Test set will contain the remaining sequences"
   ]
  },
  {
   "cell_type": "code",
   "execution_count": 6,
   "metadata": {},
   "outputs": [],
   "source": [
    "batch_size = 5\n",
    "num_workers = 1\n",
    "\n",
    "dataset = SpecDataset(\n",
    "    \"data/gtzan\",\n",
    "    sampling_rate=sampling_rate,\n",
    "    transform=transform,\n",
    "    download=True,\n",
    ")\n",
    "\n",
    "dataset_length = len(dataset)\n",
    "trainset_length = int(0.7 * dataset_length)\n",
    "testset_length = dataset_length - trainset_length\n",
    "trainset, testset = torchdata.random_split(dataset, [trainset_length, testset_length])\n",
    "\n",
    "data_loader = torchdata.DataLoader(\n",
    "    dataset,\n",
    "    batch_size=batch_size,\n",
    "    shuffle=True,\n",
    "    num_workers=num_workers,\n",
    ")\n",
    "\n",
    "train_loader = torchdata.DataLoader(\n",
    "    trainset,\n",
    "    batch_size=batch_size,\n",
    "    shuffle=True,\n",
    "    num_workers=num_workers\n",
    ")\n",
    "\n",
    "test_loader = torchdata.DataLoader(\n",
    "    testset,\n",
    "    batch_size=batch_size,\n",
    "    shuffle=True,\n",
    "    num_workers=num_workers\n",
    ")"
   ]
  },
  {
   "cell_type": "markdown",
   "metadata": {},
   "source": [
    "NB: an element `spec` of the dataset has the dimensions: (batch, channel, frequency, time), where\n",
    "- batch correspond to the id of the sample in the batch\n",
    "- channel is artificial construction to use resnet models, spans across the different spectrograms\n",
    "- frequency spans across the frequency range of the window\n",
    "- time indicate the time of the window\n",
    "\n",
    "### 1.3. Test loading"
   ]
  },
  {
   "cell_type": "code",
   "execution_count": 7,
   "metadata": {},
   "outputs": [
    {
     "name": "stdout",
     "output_type": "stream",
     "text": [
      "spec shape: torch.Size([5, 3, 128, 801])\n"
     ]
    },
    {
     "data": {
      "text/plain": [
       "<matplotlib.image.AxesImage at 0x7f8ae5339580>"
      ]
     },
     "execution_count": 7,
     "metadata": {},
     "output_type": "execute_result"
    },
    {
     "data": {
      "image/png": "[encoded data removed]",
      "text/plain": [
       "<Figure size 432x288 with 1 Axes>"
      ]
     },
     "metadata": {
      "needs_background": "light"
     },
     "output_type": "display_data"
    }
   ],
   "source": [
    "spec, genre = next(iter(data_loader))\n",
    "print(f\"spec shape: {spec.shape}\")\n",
    "plt.imshow(spec[0][0], vmin=0, vmax=0.5)\n"
   ]
  },
  {
   "cell_type": "markdown",
   "metadata": {},
   "source": [
    "## 2. Defining the encoder and the decoder\n",
    "\n",
    "Define as `nn.Module`s:\n",
    "- the encoder\n",
    "   - Input: waveform\n",
    "   - Output: latent representation\n",
    "- the decoder\n",
    "   - Input: latent representation\n",
    "   - Ouptput: waveform\n",
    "- an encoder-decoder that chains them both for convenience\n",
    "\n",
    "### Shapes\n",
    "| Stage                  | Shape            | Meaning                      |\n",
    "| ---------------------- | ---------------- | ---------------------------- |\n",
    "| Input `spec`           | [5, 3, 128, 801] | (batch, channel, freq, time) |\n",
    "| Output of `ResNet34Cut`| [5, 256, 8, 51]  | (batch, stack, freq2, time2) |\n",
    "| Intput of LSTM         | [5, 2048, 51]    | (batch, freq3, time3)        |\n",
    "| Output of LSTM         | [5, 2048]        | (batch, component)           |"
   ]
  },
  {
   "cell_type": "markdown",
   "metadata": {},
   "source": [
    "### 2.1 Resnet utilities\n",
    "\n",
    "Cut the resnet34 architecture to keep more detailed information (and not loose temporal dimension):\n",
    "\n",
    "NB: the `forward` implementation is almost copy-pasted from the torchvision sources, from [here](https://pytorch.org/vision/main/_modules/torchvision/models/resnet.html#resnet34).\n",
    "\n",
    "Also, define an inverse module for that architecture to be used in the decoder."
   ]
  },
  {
   "cell_type": "code",
   "execution_count": 85,
   "metadata": {},
   "outputs": [],
   "source": [
    "num_channels = [3, 10, 20]\n",
    "kernel_sizes = [(5, 3), (5, 3)]\n",
    "strides = [(2, 2), (2, 2)]\n",
    "# strides = [(1, 1), (1, 1)]\n",
    "\n",
    "class CNNLayer(nn.Module):\n",
    "    def __init__(self):\n",
    "        super().__init__()\n",
    "        self.layer1 = nn.Sequential(\n",
    "            nn.Conv2d(num_channels[0], num_channels[1], kernel_sizes[0], strides[0]),\n",
    "            nn.MaxPool2d(kernel_sizes[0], (1, 1), padding=(2, 1)),\n",
    "            nn.ReLU(inplace=True)\n",
    "        )\n",
    "\n",
    "        self.layer2 = nn.Sequential(\n",
    "            nn.Conv2d(num_channels[1], num_channels[2], kernel_sizes[1], strides[1]),\n",
    "            nn.MaxPool2d(kernel_sizes[1], (1, 1), padding=(2, 1)),\n",
    "            nn.ReLU(inplace=True)\n",
    "        )\n",
    "    \n",
    "    def forward(self, x: torch.Tensor) -> torch.Tensor:\n",
    "        # x.size = [batch(B), channels(3), n_mels(128), spec_length(L=16×N+1)]\n",
    "        # x = self.layer1(x)\n",
    "        x = self.layer1(x)\n",
    "        x = self.layer2(x)\n",
    "\n",
    "        # x.size = [batch(B), channels(20), height(x), length(f(L)=N+1)]\n",
    "\n",
    "        return x\n",
    "\n",
    "class InverseCNNLayer(nn.Module):\n",
    "    def __init__(self):\n",
    "        super().__init__()\n",
    "\n",
    "        self.layer1 = nn.Sequential(\n",
    "            nn.ConvTranspose2d(num_channels[2], num_channels[1], kernel_sizes[1], strides[1], output_padding=(1, 1)),\n",
    "            nn.ReLU()\n",
    "        )\n",
    "\n",
    "        self.layer2 = nn.Sequential(\n",
    "            nn.ConvTranspose2d(num_channels[1], num_channels[0], kernel_sizes[0], strides[0], output_padding=(1, 0)),\n",
    "            nn.ReLU()\n",
    "        )\n",
    "\n",
    "    \n",
    "    def forward(self, x: torch.Tensor) -> torch.Tensor:\n",
    "        # x.shape = [batch(B), channels(256), height(8), length(f(L))]\n",
    "        x = self.layer1(x)\n",
    "        x = self.layer2(x)\n",
    "\n",
    "        # x.shape = [batch(B), channels(3), n_mels(128), spec_length(L)]\n",
    "        return x"
   ]
  },
  {
   "cell_type": "code",
   "execution_count": 64,
   "metadata": {},
   "outputs": [
    {
     "name": "stdout",
     "output_type": "stream",
     "text": [
      "<class 'torch.Tensor'>\n",
      "x.shape = torch.Size([1, 3, 128, 1085])\n",
      "inner: x.shape: torch.Size([1, 10, 62, 542])\n",
      "y.shape = torch.Size([1, 20, 29, 270])\n",
      "inner: torch.Size([1, 10, 62, 542])\n",
      "z.shape = torch.Size([1, 3, 128, 1085])\n"
     ]
    }
   ],
   "source": [
    "# test shapes are coherent\n",
    "cnn = CNNLayer()\n",
    "invcnn = InverseCNNLayer()\n",
    "\n",
    "cnn.to(device)\n",
    "invcnn.to(device)\n",
    "x = torch.randn([1, 3, 128, 1085]).to(device)\n",
    "print(type(x.to(device)))\n",
    "print(f\"x.shape = {x.shape}\")\n",
    "y = cnn(x)\n",
    "print(f\"y.shape = {y.shape}\")\n",
    "z = invcnn(y)\n",
    "print(f\"z.shape = {z.shape}\")"
   ]
  },
  {
   "cell_type": "markdown",
   "metadata": {},
   "source": [
    "### 2.2 Encoder and decoder\n",
    "\n",
    "Remark: the LSTM input size is constant, as it is derived from the dimension of the output of the cut resnet model, that is the product between the number of channels (256, fixed by ResNet34Cut) and the height of the output, that evaluates to `post_resnet_height = n_mels / 16 = 8` as long as `n_mels` remains 128.\n",
    "\n",
    "**Recall**\n",
    "In pytorch, a mono-directional LSTM set with `batch_first=True`, having `num_lstm_layers` LSTMs stacked on each other, takes as inputs:\n",
    "- the input sequence `x`, of shape `[batch, sequence, H_out]`\n",
    "- the initial hidden state `h_0`, of shape `[num_lstm_layers, batch, H_out]`\n",
    "- the initial cell state `c_0`, of shape  `[num_lstm_layers, batch, H_out]`"
   ]
  },
  {
   "cell_type": "code",
   "execution_count": 86,
   "metadata": {},
   "outputs": [],
   "source": [
    "post_cnn_height: int = int(N_MELS / 4) - 3\n",
    "lstm_input_size: int = num_channels[-1] * post_cnn_height\n",
    "\n",
    "class Encoder(nn.Module):\n",
    "    def __init__(\n",
    "        self,\n",
    "        hidden_size: int = 2048,\n",
    "        num_lstm_layers: int = 1,\n",
    "        output_size: int = 2048\n",
    "    ):\n",
    "        super(Encoder, self).__init__()\n",
    "\n",
    "        self.cnn = CNNLayer()\n",
    "        self.lstm = nn.LSTM(\n",
    "            input_size=lstm_input_size,\n",
    "            hidden_size=hidden_size,\n",
    "            num_layers=num_lstm_layers,\n",
    "            batch_first=True,\n",
    "            # no need to specify sequence length\n",
    "        )\n",
    "        self.h0 = nn.parameter.Parameter(torch.zeros(hidden_size))\n",
    "        self.c0 = nn.parameter.Parameter(torch.zeros(hidden_size))\n",
    "\n",
    "        self.fc = nn.Linear(hidden_size, output_size)\n",
    "        self.relu = nn.ReLU(inplace=True)\n",
    "        self.init_state = None\n",
    "    \n",
    "    def set_init_state(self, s: Tuple[torch.Tensor, torch.Tensor]):\n",
    "        self.init_state = s\n",
    "    \n",
    "    def forward(self, x: torch.Tensor) -> torch.Tensor:\n",
    "        # x.shape = [batch(B), channels(3), n_mels(128), spec_length(L=16×N+1)]\n",
    "        batch_size = x.shape[0]\n",
    "        x = self.cnn(x)\n",
    "\n",
    "        # x.shape = [batch(B), channels(256), height(8), length(N+1)]\n",
    "        length = x.shape[-1]\n",
    "        x = x.view(batch_size, -1, length).swapaxes(1, 2)\n",
    "\n",
    "        # x.shape = [batch(B), length(N+1), height(lstm_input_size=2048)]\n",
    "        if self.init_state is not None:\n",
    "            output, (hn, cn) = self.lstm(x, self.init_state)\n",
    "            self.init_state = None\n",
    "        else:\n",
    "            h0 = self.h0.repeat(batch_size, 1).unsqueeze(0)\n",
    "            c0 = self.c0.repeat(batch_size, 1).unsqueeze(0)\n",
    "            output, (hn, cn) = self.lstm(x, (h0, c0))\n",
    "        \n",
    "        # hn.shape = [num_lstm_layers, batch(B), hidden]\n",
    "        x = self.fc(hn.squeeze(0))\n",
    "        x = self.relu(x)\n",
    "        \n",
    "        # x.shape = [batch(B), output_size]\n",
    "        return x\n",
    "\n",
    "class Decoder(nn.Module):\n",
    "    def __init__(\n",
    "        self,\n",
    "        output_size=2048,\n",
    "        hidden_size=2048,\n",
    "        sequence_length=51,\n",
    "        num_lstm_layers=1\n",
    "    ):\n",
    "        super(Decoder, self).__init__()\n",
    "\n",
    "        self.fc = nn.Linear(output_size, hidden_size)\n",
    "        self.relu = nn.ReLU(inplace=True)\n",
    "\n",
    "        self.const_x = nn.parameter.Parameter(torch.zeros(lstm_input_size))\n",
    "        print(f\"const_x shape: {self.const_x.shape}\")\n",
    "        self.h0 = nn.parameter.Parameter(torch.zeros(lstm_input_size))\n",
    "\n",
    "        self.lstm = nn.LSTM(\n",
    "            input_size=lstm_input_size,\n",
    "            hidden_size=hidden_size,\n",
    "            num_layers=num_lstm_layers,\n",
    "            proj_size=lstm_input_size,\n",
    "            batch_first=True,\n",
    "            # no need to specify sequence length\n",
    "        )\n",
    "        self.reverse_cnn = InverseCNNLayer()\n",
    "        self.hidden_size = hidden_size\n",
    "        self.sequence_length = sequence_length\n",
    "    \n",
    "    def set_output_sequence_length(self, spec_length: int):\n",
    "        \"\"\"\n",
    "        Sets the decoder to output spectrograms of length `length`, \n",
    "        parameterizing the LSTM input.\n",
    "        \"\"\"\n",
    "        length = int((spec_length-1) // 4 - 1)\n",
    "        self.sequence_length = length\n",
    "    \n",
    "    def set_output_sequence_length_seconds(self, seconds: float):\n",
    "        \"\"\"\n",
    "        Sets the decoder to output approximately `seconds` seconds spectrograms.\n",
    "        Relies on the MelSpectrogram class used, obviously.\n",
    "\n",
    "        Dumby interpolation from 801 spectrogram length corresponding to ±20s,\n",
    "        hence 40 length is 1s.\n",
    "        \"\"\"\n",
    "        self.set_output_sequence_length(int(40 * seconds))\n",
    "    \n",
    "    def forward(self, x: torch.Tensor) -> torch.Tensor:\n",
    "        # x.shape = [batch(B), output_size]\n",
    "        batch_size = x.shape[0]\n",
    "        x = self.fc(x)\n",
    "        x = self.relu(x)\n",
    "\n",
    "        # x.shape = [batch(B), hidden_size]\n",
    "        lstm_input = self.const_x.repeat(batch_size, self.sequence_length, 1).to(device)\n",
    "        h0 = self.h0.repeat(batch_size, 1).unsqueeze(0)\n",
    "        x, (hn, cn) = self.lstm(lstm_input, (h0, x.unsqueeze(0)))\n",
    "        \n",
    "        # x.shape = [batch(B), length(N+1), hidden_size]\n",
    "        x = x.swapaxes(1, 2).view(batch_size, num_channels[-1], post_cnn_height, self.sequence_length)\n",
    "\n",
    "        # x.shape = [batch(B), channels(256), height(8), length(N+1)]\n",
    "        x = self.reverse_cnn(x)\n",
    "\n",
    "        # x.shape = [batch(B), channels(3), n_mels(128), spec_length(16×N+1)]\n",
    "        return x\n",
    "\n",
    "\n",
    "class EncoderDecoder(nn.Module):\n",
    "    def __init__(\n",
    "        self,\n",
    "        lstm_input_size=2048,\n",
    "        hidden_size=2048,\n",
    "        sequence_length=51,\n",
    "        num_lstm_layers=1\n",
    "    ):\n",
    "        super(EncoderDecoder, self).__init__()\n",
    "\n",
    "        self.encoder = Encoder(\n",
    "            lstm_input_size=lstm_input_size,\n",
    "            hidden_size=hidden_size,\n",
    "            sequence_length=sequence_length,\n",
    "            num_lstm_layers=num_lstm_layers\n",
    "        )\n",
    "        self.decoder = Decoder(\n",
    "            lstm_input_size=lstm_input_size,\n",
    "            hidden_size=hidden_size,\n",
    "            sequence_length=sequence_length,\n",
    "            num_lstm_layers=num_lstm_layers\n",
    "        )\n",
    "    \n",
    "    def forward(self, x: torch.Tensor) -> torch.Tensor:\n",
    "        x = self.encoder(x)\n",
    "        x = self.decoder(x)\n",
    "        return x"
   ]
  },
  {
   "cell_type": "code",
   "execution_count": 87,
   "metadata": {},
   "outputs": [
    {
     "name": "stdout",
     "output_type": "stream",
     "text": [
      "const_x shape: torch.Size([580])\n",
      "v.shape = torch.Size([5, 2048])\n",
      "lstm input shapes: lstm input: torch.Size([5, 203, 580]), x: torch.Size([5, 2048]), h0: torch.Size([1, 5, 580])\n",
      "x.shape after lstm: torch.Size([5, 203, 580])\n",
      "y.shape = torch.Size([5, 3, 128, 817])\n"
     ]
    }
   ],
   "source": [
    "# testing...\n",
    "\n",
    "encoder = Encoder()\n",
    "decoder = Decoder()\n",
    "encoder.to(device)\n",
    "decoder.to(device)\n",
    "\n",
    "x = torch.randn([5, 3, 128, 817])\n",
    "decoder.set_output_sequence_length(817)\n",
    "v = encoder(x.to(device))\n",
    "print(f\"v.shape = {v.shape}\")\n",
    "y = decoder(v)\n",
    "print(f\"y.shape = {y.shape}\")"
   ]
  },
  {
   "cell_type": "markdown",
   "metadata": {},
   "source": [
    "## 3 Training the model\n",
    "\n",
    "### 3.0 Utility for storing losses"
   ]
  },
  {
   "cell_type": "code",
   "execution_count": 12,
   "metadata": {},
   "outputs": [],
   "source": [
    "class LossesHandler(object):\n",
    "    def __init__(self, test_name: str, train_name: str):\n",
    "        self.ftest = open(test_name, \"w\")\n",
    "        self.ftrain = open(train_name, \"w\")\n",
    "        # self.losses[e][i] contains the loss at epoch e for elm i\n",
    "        self.train_losses = [[]]\n",
    "        self.test_losses = [[]]\n",
    "        self.spec_lengths = []\n",
    "        self.cur_epoch = 0\n",
    "    \n",
    "    def add_test_loss(self, test_loss: float):\n",
    "        self.test_losses[self.cur_epoch].append(test_loss)\n",
    "    \n",
    "    def add_train_loss(self, train_loss: float):\n",
    "        self.train_losses[self.cur_epoch].append(train_loss)\n",
    "    \n",
    "    def next_epoch(self, past_spec_length):\n",
    "        self.train_losses.append([])\n",
    "        self.test_losses.append([])\n",
    "        self.spec_lengths.append(past_spec_length)\n",
    "        self.cur_epoch += 1\n",
    "    \n",
    "    def write_epoch_losses(self):\n",
    "        self.ftrain.write(\", \".join([str(l) for l in self.train_losses[self.cur_epoch]]) + \"\\n\")\n",
    "        self.ftest.write(\", \".join([str(l) for l in self.test_losses[self.cur_epoch]]) + \"\\n\")\n",
    "    \n",
    "    def write_averages(self, filename: str):\n",
    "        f = open(filename, \"w\")\n",
    "        f.write(\"Epoch number,Epoch spec length,Average test loss,Average train loss\\n\")\n",
    "        for i, (test, train, spec_length) in enumerate(zip(self.test_losses, self.train_losses, self.spec_lengths)):\n",
    "            avg_test, avg_train = [sum(x) / len(x) for x in [test, train]]\n",
    "            f.write(f\"{i},{spec_length},{avg_test},{avg_train}\\n\")\n",
    "        \n",
    "        f.close()\n",
    "\n",
    "    \n",
    "    def close(self):\n",
    "        self.ftrain.close()\n",
    "        self.ftest.close()"
   ]
  },
  {
   "cell_type": "markdown",
   "metadata": {},
   "source": [
    "### 3.1 Training"
   ]
  },
  {
   "cell_type": "code",
   "execution_count": 62,
   "metadata": {},
   "outputs": [
    {
     "data": {
      "text/html": [
       "\n",
       "<style>\n",
       "    /* Turns off some styling */\n",
       "    progress {\n",
       "        /* gets rid of default border in Firefox and Opera. */\n",
       "        border: none;\n",
       "        /* Needs to be in here for Safari polyfill so background images work as expected. */\n",
       "        background-size: auto;\n",
       "    }\n",
       "    .progress-bar-interrupted, .progress-bar-interrupted::-webkit-progress-bar {\n",
       "        background: #F44336;\n",
       "    }\n",
       "</style>\n"
      ],
      "text/plain": [
       "<IPython.core.display.HTML object>"
      ]
     },
     "metadata": {},
     "output_type": "display_data"
    },
    {
     "data": {
      "text/html": [
       "\n",
       "    <div>\n",
       "      <progress value='22' class='' max='300' style='width:300px; height:20px; vertical-align: middle;'></progress>\n",
       "      7.33% [22/300 19:22<4:04:48]\n",
       "    </div>\n",
       "    \n",
       "Epoch 1: avg test loss: 645098.5625, avg train loss: 955101.6875, Spec length: 897<p>Epoch 2: avg test loss: 1226202.125, avg train loss: 1070240.875, Spec length: 913<p>Epoch 3: avg test loss: 1156954.375, avg train loss: 1151413.0, Spec length: 993<p>Epoch 4: avg test loss: 1112220.125, avg train loss: 921992.1875, Spec length: 1041<p>Epoch 5: avg test loss: 840140.0, avg train loss: 789425.3125, Spec length: 961<p>Epoch 6: avg test loss: 1018719.5, avg train loss: 972616.375, Spec length: 817<p>Epoch 7: avg test loss: 1257447.25, avg train loss: 1182326.875, Spec length: 961<p>Epoch 8: avg test loss: 866557.0, avg train loss: 1154099.375, Spec length: 913<p>Epoch 9: avg test loss: 659866.75, avg train loss: 747202.5, Spec length: 961<p>Epoch 10: avg test loss: 1282420.375, avg train loss: 920913.0625, Spec length: 993<p>Epoch 11: avg test loss: 1004019.5, avg train loss: 1142498.25, Spec length: 977<p>Epoch 12: avg test loss: 596693.1875, avg train loss: 816215.0, Spec length: 817<p>Epoch 13: avg test loss: 1125727.25, avg train loss: 1001460.375, Spec length: 1041<p>Epoch 14: avg test loss: 957049.0, avg train loss: 1148411.0, Spec length: 913<p>Epoch 15: avg test loss: 1091797.875, avg train loss: 936288.625, Spec length: 961<p>Epoch 16: avg test loss: 1141175.75, avg train loss: 899397.4375, Spec length: 1057<p>Epoch 17: avg test loss: 1039933.4375, avg train loss: 846035.8125, Spec length: 929<p>Epoch 18: avg test loss: 1051071.0, avg train loss: 1098773.875, Spec length: 881<p>Epoch 19: avg test loss: 1095749.375, avg train loss: 1103707.75, Spec length: 929<p>Epoch 20: avg test loss: 1197121.75, avg train loss: 989191.75, Spec length: 1041<p>Epoch 21: avg test loss: 887618.875, avg train loss: 887306.5, Spec length: 929<p>Epoch 22: avg test loss: 926720.875, avg train loss: 885219.625, Spec length: 961<p>\n",
       "\n",
       "    <div>\n",
       "      <progress value='21' class='' max='140' style='width:300px; height:20px; vertical-align: middle;'></progress>\n",
       "      15.00% [21/140 00:06<00:34]\n",
       "    </div>\n",
       "    "
      ],
      "text/plain": [
       "<IPython.core.display.HTML object>"
      ]
     },
     "metadata": {},
     "output_type": "display_data"
    },
    {
     "ename": "KeyboardInterrupt",
     "evalue": "",
     "output_type": "error",
     "traceback": [
      "\u001b[0;31m---------------------------------------------------------------------------\u001b[0m",
      "\u001b[0;31mKeyboardInterrupt\u001b[0m                         Traceback (most recent call last)",
      "Input \u001b[0;32mIn [62]\u001b[0m, in \u001b[0;36m<module>\u001b[0;34m\u001b[0m\n\u001b[1;32m     36\u001b[0m     optimizer\u001b[38;5;241m.\u001b[39mzero_grad()\n\u001b[1;32m     37\u001b[0m     loss\u001b[38;5;241m.\u001b[39mbackward()\n\u001b[0;32m---> 38\u001b[0m     \u001b[43moptimizer\u001b[49m\u001b[38;5;241;43m.\u001b[39;49m\u001b[43mstep\u001b[49m\u001b[43m(\u001b[49m\u001b[43m)\u001b[49m\n\u001b[1;32m     40\u001b[0m     \u001b[38;5;66;03m#grad_norm = torch.norm(\u001b[39;00m\n\u001b[1;32m     41\u001b[0m     \u001b[38;5;66;03m#    torch.stack([torch.norm(p.grad.detach(), 2) for p in decoder.parameters()]), 2)\u001b[39;00m\n\u001b[1;32m     42\u001b[0m \n\u001b[0;32m   (...)\u001b[0m\n\u001b[1;32m     45\u001b[0m \n\u001b[1;32m     46\u001b[0m \u001b[38;5;66;03m# Test:\u001b[39;00m\n\u001b[1;32m     47\u001b[0m \u001b[38;5;28;01mwith\u001b[39;00m torch\u001b[38;5;241m.\u001b[39mno_grad():\n",
      "File \u001b[0;32m/opt/conda/lib/python3.8/site-packages/torch/optim/optimizer.py:88\u001b[0m, in \u001b[0;36mOptimizer._hook_for_profile.<locals>.profile_hook_step.<locals>.wrapper\u001b[0;34m(*args, **kwargs)\u001b[0m\n\u001b[1;32m     86\u001b[0m profile_name \u001b[38;5;241m=\u001b[39m \u001b[38;5;124m\"\u001b[39m\u001b[38;5;124mOptimizer.step#\u001b[39m\u001b[38;5;132;01m{}\u001b[39;00m\u001b[38;5;124m.step\u001b[39m\u001b[38;5;124m\"\u001b[39m\u001b[38;5;241m.\u001b[39mformat(obj\u001b[38;5;241m.\u001b[39m\u001b[38;5;18m__class__\u001b[39m\u001b[38;5;241m.\u001b[39m\u001b[38;5;18m__name__\u001b[39m)\n\u001b[1;32m     87\u001b[0m \u001b[38;5;28;01mwith\u001b[39;00m torch\u001b[38;5;241m.\u001b[39mautograd\u001b[38;5;241m.\u001b[39mprofiler\u001b[38;5;241m.\u001b[39mrecord_function(profile_name):\n\u001b[0;32m---> 88\u001b[0m     \u001b[38;5;28;01mreturn\u001b[39;00m \u001b[43mfunc\u001b[49m\u001b[43m(\u001b[49m\u001b[38;5;241;43m*\u001b[39;49m\u001b[43margs\u001b[49m\u001b[43m,\u001b[49m\u001b[43m \u001b[49m\u001b[38;5;241;43m*\u001b[39;49m\u001b[38;5;241;43m*\u001b[39;49m\u001b[43mkwargs\u001b[49m\u001b[43m)\u001b[49m\n",
      "File \u001b[0;32m/opt/conda/lib/python3.8/site-packages/torch/autograd/grad_mode.py:27\u001b[0m, in \u001b[0;36m_DecoratorContextManager.__call__.<locals>.decorate_context\u001b[0;34m(*args, **kwargs)\u001b[0m\n\u001b[1;32m     24\u001b[0m \u001b[38;5;129m@functools\u001b[39m\u001b[38;5;241m.\u001b[39mwraps(func)\n\u001b[1;32m     25\u001b[0m \u001b[38;5;28;01mdef\u001b[39;00m \u001b[38;5;21mdecorate_context\u001b[39m(\u001b[38;5;241m*\u001b[39margs, \u001b[38;5;241m*\u001b[39m\u001b[38;5;241m*\u001b[39mkwargs):\n\u001b[1;32m     26\u001b[0m     \u001b[38;5;28;01mwith\u001b[39;00m \u001b[38;5;28mself\u001b[39m\u001b[38;5;241m.\u001b[39mclone():\n\u001b[0;32m---> 27\u001b[0m         \u001b[38;5;28;01mreturn\u001b[39;00m \u001b[43mfunc\u001b[49m\u001b[43m(\u001b[49m\u001b[38;5;241;43m*\u001b[39;49m\u001b[43margs\u001b[49m\u001b[43m,\u001b[49m\u001b[43m \u001b[49m\u001b[38;5;241;43m*\u001b[39;49m\u001b[38;5;241;43m*\u001b[39;49m\u001b[43mkwargs\u001b[49m\u001b[43m)\u001b[49m\n",
      "File \u001b[0;32m/opt/conda/lib/python3.8/site-packages/torch/optim/adam.py:141\u001b[0m, in \u001b[0;36mAdam.step\u001b[0;34m(self, closure)\u001b[0m\n\u001b[1;32m    138\u001b[0m             \u001b[38;5;66;03m# record the step after step update\u001b[39;00m\n\u001b[1;32m    139\u001b[0m             state_steps\u001b[38;5;241m.\u001b[39mappend(state[\u001b[38;5;124m'\u001b[39m\u001b[38;5;124mstep\u001b[39m\u001b[38;5;124m'\u001b[39m])\n\u001b[0;32m--> 141\u001b[0m     \u001b[43mF\u001b[49m\u001b[38;5;241;43m.\u001b[39;49m\u001b[43madam\u001b[49m\u001b[43m(\u001b[49m\u001b[43mparams_with_grad\u001b[49m\u001b[43m,\u001b[49m\n\u001b[1;32m    142\u001b[0m \u001b[43m           \u001b[49m\u001b[43mgrads\u001b[49m\u001b[43m,\u001b[49m\n\u001b[1;32m    143\u001b[0m \u001b[43m           \u001b[49m\u001b[43mexp_avgs\u001b[49m\u001b[43m,\u001b[49m\n\u001b[1;32m    144\u001b[0m \u001b[43m           \u001b[49m\u001b[43mexp_avg_sqs\u001b[49m\u001b[43m,\u001b[49m\n\u001b[1;32m    145\u001b[0m \u001b[43m           \u001b[49m\u001b[43mmax_exp_avg_sqs\u001b[49m\u001b[43m,\u001b[49m\n\u001b[1;32m    146\u001b[0m \u001b[43m           \u001b[49m\u001b[43mstate_steps\u001b[49m\u001b[43m,\u001b[49m\n\u001b[1;32m    147\u001b[0m \u001b[43m           \u001b[49m\u001b[43mamsgrad\u001b[49m\u001b[38;5;241;43m=\u001b[39;49m\u001b[43mgroup\u001b[49m\u001b[43m[\u001b[49m\u001b[38;5;124;43m'\u001b[39;49m\u001b[38;5;124;43mamsgrad\u001b[39;49m\u001b[38;5;124;43m'\u001b[39;49m\u001b[43m]\u001b[49m\u001b[43m,\u001b[49m\n\u001b[1;32m    148\u001b[0m \u001b[43m           \u001b[49m\u001b[43mbeta1\u001b[49m\u001b[38;5;241;43m=\u001b[39;49m\u001b[43mbeta1\u001b[49m\u001b[43m,\u001b[49m\n\u001b[1;32m    149\u001b[0m \u001b[43m           \u001b[49m\u001b[43mbeta2\u001b[49m\u001b[38;5;241;43m=\u001b[39;49m\u001b[43mbeta2\u001b[49m\u001b[43m,\u001b[49m\n\u001b[1;32m    150\u001b[0m \u001b[43m           \u001b[49m\u001b[43mlr\u001b[49m\u001b[38;5;241;43m=\u001b[39;49m\u001b[43mgroup\u001b[49m\u001b[43m[\u001b[49m\u001b[38;5;124;43m'\u001b[39;49m\u001b[38;5;124;43mlr\u001b[39;49m\u001b[38;5;124;43m'\u001b[39;49m\u001b[43m]\u001b[49m\u001b[43m,\u001b[49m\n\u001b[1;32m    151\u001b[0m \u001b[43m           \u001b[49m\u001b[43mweight_decay\u001b[49m\u001b[38;5;241;43m=\u001b[39;49m\u001b[43mgroup\u001b[49m\u001b[43m[\u001b[49m\u001b[38;5;124;43m'\u001b[39;49m\u001b[38;5;124;43mweight_decay\u001b[39;49m\u001b[38;5;124;43m'\u001b[39;49m\u001b[43m]\u001b[49m\u001b[43m,\u001b[49m\n\u001b[1;32m    152\u001b[0m \u001b[43m           \u001b[49m\u001b[43meps\u001b[49m\u001b[38;5;241;43m=\u001b[39;49m\u001b[43mgroup\u001b[49m\u001b[43m[\u001b[49m\u001b[38;5;124;43m'\u001b[39;49m\u001b[38;5;124;43meps\u001b[39;49m\u001b[38;5;124;43m'\u001b[39;49m\u001b[43m]\u001b[49m\u001b[43m,\u001b[49m\n\u001b[1;32m    153\u001b[0m \u001b[43m           \u001b[49m\u001b[43mmaximize\u001b[49m\u001b[38;5;241;43m=\u001b[39;49m\u001b[43mgroup\u001b[49m\u001b[43m[\u001b[49m\u001b[38;5;124;43m'\u001b[39;49m\u001b[38;5;124;43mmaximize\u001b[39;49m\u001b[38;5;124;43m'\u001b[39;49m\u001b[43m]\u001b[49m\u001b[43m)\u001b[49m\n\u001b[1;32m    154\u001b[0m \u001b[38;5;28;01mreturn\u001b[39;00m loss\n",
      "File \u001b[0;32m/opt/conda/lib/python3.8/site-packages/torch/optim/_functional.py:105\u001b[0m, in \u001b[0;36madam\u001b[0;34m(params, grads, exp_avgs, exp_avg_sqs, max_exp_avg_sqs, state_steps, amsgrad, beta1, beta2, lr, weight_decay, eps, maximize)\u001b[0m\n\u001b[1;32m    103\u001b[0m     denom \u001b[38;5;241m=\u001b[39m (max_exp_avg_sqs[i]\u001b[38;5;241m.\u001b[39msqrt() \u001b[38;5;241m/\u001b[39m math\u001b[38;5;241m.\u001b[39msqrt(bias_correction2))\u001b[38;5;241m.\u001b[39madd_(eps)\n\u001b[1;32m    104\u001b[0m \u001b[38;5;28;01melse\u001b[39;00m:\n\u001b[0;32m--> 105\u001b[0m     denom \u001b[38;5;241m=\u001b[39m (\u001b[43mexp_avg_sq\u001b[49m\u001b[38;5;241;43m.\u001b[39;49m\u001b[43msqrt\u001b[49m\u001b[43m(\u001b[49m\u001b[43m)\u001b[49m\u001b[43m \u001b[49m\u001b[38;5;241;43m/\u001b[39;49m\u001b[43m \u001b[49m\u001b[43mmath\u001b[49m\u001b[38;5;241;43m.\u001b[39;49m\u001b[43msqrt\u001b[49m\u001b[43m(\u001b[49m\u001b[43mbias_correction2\u001b[49m\u001b[43m)\u001b[49m)\u001b[38;5;241m.\u001b[39madd_(eps)\n\u001b[1;32m    109\u001b[0m step_size \u001b[38;5;241m=\u001b[39m lr \u001b[38;5;241m/\u001b[39m bias_correction1\n\u001b[1;32m    110\u001b[0m param\u001b[38;5;241m.\u001b[39maddcdiv_(exp_avg, denom, value\u001b[38;5;241m=\u001b[39m\u001b[38;5;241m-\u001b[39mstep_size)\n",
      "\u001b[0;31mKeyboardInterrupt\u001b[0m: "
     ]
    }
   ],
   "source": [
    "num_epochs = 300\n",
    "epoch_backup_spacing = 1\n",
    "h = LossesHandler(\"test_losses-scnn.csv\", \"train_losses-scnn.csv\")\n",
    "\n",
    "encoder = Encoder()\n",
    "decoder = Decoder()\n",
    "encoder.to(device)\n",
    "decoder.to(device)\n",
    "\n",
    "# spec lengths chosen randomly at each epochs\n",
    "num_choices = int((max_spec_length - min_spec_length) / 16)\n",
    "\n",
    "criterion = nn.MSELoss(reduction=\"sum\")\n",
    "\n",
    "learning_rate = 0.001\n",
    "params = list(encoder.parameters()) + list(decoder.parameters())\n",
    "optimizer = optim.Adam(params, lr=learning_rate)\n",
    "\n",
    "master = master_bar(range(1, num_epochs+1))\n",
    "\n",
    "for epoch in master:\n",
    "    r = int(torch.randint(num_choices, size=(1, 1)))\n",
    "    l = min_spec_length + r * 16\n",
    "    train_loader.dataset.dataset.transform = make_spec_transform(l)\n",
    "    decoder.set_output_sequence_length(l)\n",
    "    # Train: \n",
    "    for x, _genre in (\n",
    "        progress_bar(train_loader, parent=master) if master is not None else train_loader\n",
    "    ):\n",
    "        x = x.to(device)\n",
    "        encoded = encoder(x)\n",
    "        pred = decoder(encoded)\n",
    "        loss = criterion(x, pred) \n",
    "        h.add_train_loss(loss.detach().mean())\n",
    "\n",
    "        optimizer.zero_grad()\n",
    "        loss.backward()\n",
    "        optimizer.step()\n",
    "        \n",
    "        #grad_norm = torch.norm(\n",
    "        #    torch.stack([torch.norm(p.grad.detach(), 2) for p in decoder.parameters()]), 2)\n",
    "\n",
    "        # print(f\"Grad norm: {grad_norm}\")\n",
    "\n",
    "    \n",
    "    # Test:\n",
    "    with torch.no_grad():\n",
    "        for x, _genre in (\n",
    "            progress_bar(test_loader, parent=master) if master is not None else test_loader\n",
    "        ):\n",
    "            x = x.to(device)\n",
    "            encoded = encoder(x)\n",
    "            pred = decoder(encoded)\n",
    "            loss = criterion(x, pred)\n",
    "            h.add_test_loss(loss.mean())\n",
    "    \n",
    "    h.write_epoch_losses()\n",
    "    h.next_epoch(l)\n",
    "\n",
    "    if epoch % epoch_backup_spacing == 0:\n",
    "        test_avg, train_avg = [sum(x) / len(x) for x in [\n",
    "            h.test_losses[h.cur_epoch-1], h.train_losses[h.cur_epoch-1]\n",
    "        ]]\n",
    "        master.write(f\"Epoch {epoch}: avg test loss: {test_avg}, avg train loss: {train_avg}, \" +\n",
    "                     f\"Spec length: {l}\")\n",
    "        torch.save(encoder.state_dict(), \"encoder_backup-scnn.pt\")\n",
    "        torch.save(decoder.state_dict(), \"decoder_backup-scnn.pt\")\n",
    "        h.write_averages(\"averages-backup.csv\")\n",
    "\n",
    "torch.save(encoder.state_dict(), \"encoder-scnn.pt\")\n",
    "torch.save(decoder.state_dict(), \"decoder-scnn.pt\")\n",
    "h.write_averages(\"averages-scnn.csv\")\n",
    "print(\"Hey it's ended\")"
   ]
  },
  {
   "cell_type": "code",
   "execution_count": null,
   "metadata": {},
   "outputs": [],
   "source": [
    "print(len(params))\n",
    "#for i, p in enumerate(params):\n",
    "    #n = torch.norm(p.grad.detach(), 2)\n",
    "    #print(f\"{i} -> {n}\")\n",
    "for i, p in enumerate(params):\n",
    "    print(f\"{i} -> {torch.norm(p.grad.detach(), 2)}\")"
   ]
  },
  {
   "cell_type": "markdown",
   "metadata": {},
   "source": [
    "Saving the model parameters..."
   ]
  },
  {
   "cell_type": "code",
   "execution_count": null,
   "metadata": {},
   "outputs": [],
   "source": [
    "# path_encoder = \"model-encoder.pt\"\n",
    "# path_decoder = \"model-decoder.pt\"\n",
    "# torch.save(encoder.state_dict(), path_encoder)\n",
    "# torch.save(decoder.state_dict(), path_decoder)\n",
    "\n",
    "# reload: \n",
    "# encoder = Encoder()\n",
    "# decoder = Decoder()\n",
    "# encoder.load_state_dict(torch.load(path_encoder))\n",
    "# decoder.load_state_dict(torch.load(path_decoder))"
   ]
  },
  {
   "cell_type": "code",
   "execution_count": null,
   "metadata": {},
   "outputs": [],
   "source": [
    "import matplotlib.pyplot as plt\n",
    "\n",
    "avgs = pd.read_csv(\"averages.csv\")\n",
    "plt.figure()\n",
    "plt.plot(avgs[\"Epoch number\"], avgs[\"Average test loss\"])\n",
    "plt.plot(avgs[\"Epoch number\"], avgs[\"Average train loss\"])\n",
    "plt.show()"
   ]
  },
  {
   "cell_type": "code",
   "execution_count": null,
   "metadata": {},
   "outputs": [],
   "source": [
    "x = torch.ones(7)\n",
    "x = x.expand(4, 2, 1)\n",
    "x.shape"
   ]
  }
 ],
 "metadata": {
  "interpreter": {
   "hash": "492dea7e935c1c914fc29e6b01e49fd41d40ab73afca215ec71ee5791b9738b1"
  },
  "kernelspec": {
   "display_name": ".env",
   "language": "python",
   "name": ".env"
  },
  "language_info": {
   "codemirror_mode": {
    "name": "ipython",
    "version": 3
   },
   "file_extension": ".py",
   "mimetype": "text/x-python",
   "name": "python",
   "nbconvert_exporter": "python",
   "pygments_lexer": "ipython3",
   "version": "3.8.10"
  }
 },
 "nbformat": 4,
 "nbformat_minor": 4
}
